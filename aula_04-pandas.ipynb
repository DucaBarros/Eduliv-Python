{
 "cells": [
  {
   "cell_type": "markdown",
   "id": "7e23196c",
   "metadata": {},
   "source": [
    "#### Eduliv: Encontro 04 - Introdução ao Pandas\n",
    "\n",
    "**Working with FameWorks**"
   ]
  },
  {
   "cell_type": "code",
   "execution_count": 61,
   "id": "21ad3f86",
   "metadata": {},
   "outputs": [
    {
     "name": "stdout",
     "output_type": "stream",
     "text": [
      "[{'nome': 'Paulo', 'idade': 50, 'sexo': 'Masculino', 'endereco': 'Sidney Chaves', 'nacionalidade': 'Brasileira', 'salario': 4380}, {'nome': 'Fran', 'idade': 25, 'sexo': 'Feminino', 'endereco': 'Vila Velha', 'nacionalidade': 'Brasileira', 'salario': 3550}, {'nome': 'João', 'idade': 30, 'sexo': 'Masculino', 'endereco': 'Vitória', 'nacionalidade': 'Brasileira', 'salario': 2255}]\n",
      "DATAFRAME\n",
      "    nome  idade       sexo       endereco nacionalidade  salario\n",
      "0  Paulo     50  Masculino  Sidney Chaves    Brasileira     4380\n",
      "1   Fran     25   Feminino     Vila Velha    Brasileira     3550\n",
      "2   João     30  Masculino        Vitória    Brasileira     2255\n"
     ]
    }
   ],
   "source": [
    "import pandas as pd\n",
    "\n",
    "# Criando uma lista de dicionários (pessoas)\n",
    "users_list = [\n",
    "    {\n",
    "        \"nome\": \"Paulo\",\n",
    "        \"idade\": 50,\n",
    "        \"sexo\": \"Masculino\",\n",
    "        \"endereco\": \"Sidney Chaves\",\n",
    "        \"nacionalidade\": \"Brasileira\",\n",
    "        \"salario\": 4380\n",
    "        },\n",
    "    {\n",
    "        \"nome\": \"Fran\",\n",
    "        \"idade\": 25,\n",
    "        \"sexo\": \"Feminino\",\n",
    "        \"endereco\": \"Vila Velha\",\n",
    "        \"nacionalidade\": \"Brasileira\",\n",
    "        \"salario\": 3550\n",
    "        },\n",
    "    {\n",
    "        \"nome\": \"João\",\n",
    "        \"idade\": 30,\n",
    "        \"sexo\": \"Masculino\",\n",
    "        \"endereco\": \"Vitória\",\n",
    "        \"nacionalidade\": \"Brasileira\",\n",
    "        \"salario\": 2255\n",
    "        }\n",
    "]\n",
    "\n",
    "print(users_list)\n",
    "\n",
    "# Receiveing the List with DataFrame\n",
    "df_users = pd.DataFrame(users_list)\n",
    "print('DATAFRAME')\n",
    "print(df_users)"
   ]
  },
  {
   "cell_type": "markdown",
   "id": "dde29461",
   "metadata": {},
   "source": [
    "* **_describe( )_ Method** is a powerful function used to generate a **statistical summary** of a DataFrame or Series. It provides a quick overview of the data's distribution and key characteristics."
   ]
  },
  {
   "cell_type": "code",
   "execution_count": 4,
   "id": "cffae394",
   "metadata": {},
   "outputs": [
    {
     "name": "stdout",
     "output_type": "stream",
     "text": [
      "           idade\n",
      "count   3.000000\n",
      "mean   35.000000\n",
      "std    13.228757\n",
      "min    25.000000\n",
      "25%    27.500000\n",
      "50%    30.000000\n",
      "75%    40.000000\n",
      "max    50.000000\n"
     ]
    }
   ],
   "source": [
    "print(df_users.describe())"
   ]
  },
  {
   "cell_type": "markdown",
   "id": "9a114c9b",
   "metadata": {},
   "source": [
    "* **_columns_**\n",
    "is the attribute of a DataFrame used to access or modify the column labels (names) of the DataFrame."
   ]
  },
  {
   "cell_type": "code",
   "execution_count": 12,
   "id": "b84af491",
   "metadata": {},
   "outputs": [
    {
     "name": "stdout",
     "output_type": "stream",
     "text": [
      "Index(['nome', 'idade', 'sexo', 'endereco', 'nacionalidade'], dtype='object')\n"
     ]
    }
   ],
   "source": [
    "print(df_users.columns)"
   ]
  },
  {
   "cell_type": "markdown",
   "id": "6286fb62",
   "metadata": {},
   "source": [
    "* **_mean( )_ Method** is a function that calculates the arithmetic mean (average) of numerical data.\n",
    "- It only works with numerical data, so if the list has strings the parameter _\"numeric_only=True\"_ needs to be used."
   ]
  },
  {
   "cell_type": "code",
   "execution_count": 13,
   "id": "ad89a599",
   "metadata": {},
   "outputs": [
    {
     "name": "stdout",
     "output_type": "stream",
     "text": [
      "idade    35.0\n",
      "dtype: float64\n"
     ]
    }
   ],
   "source": [
    "print(df_users.mean(numeric_only=True))"
   ]
  },
  {
   "cell_type": "markdown",
   "id": "0f6c3f9d",
   "metadata": {},
   "source": [
    "* **_size_** is the attibute that returns an integer representing the total number of elements in a Series or DataFrame."
   ]
  },
  {
   "cell_type": "code",
   "execution_count": 5,
   "id": "c7f94d86",
   "metadata": {},
   "outputs": [
    {
     "name": "stdout",
     "output_type": "stream",
     "text": [
      "There is 15 elements in the DataFrame\n"
     ]
    }
   ],
   "source": [
    "print('There is', df_users.size, \"elements in the DataFrame\")"
   ]
  },
  {
   "cell_type": "markdown",
   "id": "6e50a6eb",
   "metadata": {},
   "source": [
    "* Using the **_mean( )_ Method** to print the average of a specific coloumn."
   ]
  },
  {
   "cell_type": "code",
   "execution_count": 7,
   "id": "aa0187ec",
   "metadata": {},
   "outputs": [
    {
     "name": "stdout",
     "output_type": "stream",
     "text": [
      "The average age is 35.0\n"
     ]
    }
   ],
   "source": [
    "print('The average age is', df_users['idade'].mean(numeric_only=True))"
   ]
  },
  {
   "cell_type": "code",
   "execution_count": 83,
   "id": "eb777689",
   "metadata": {},
   "outputs": [
    {
     "name": "stdout",
     "output_type": "stream",
     "text": [
      "The average age is 35 years old.\n"
     ]
    }
   ],
   "source": [
    "average_age = df_users['idade'].mean()\n",
    "print(f'The average age is {int(average_age)} years old.')"
   ]
  },
  {
   "cell_type": "code",
   "execution_count": 13,
   "id": "96104ef8",
   "metadata": {},
   "outputs": [
    {
     "name": "stdout",
     "output_type": "stream",
     "text": [
      "The average salary is 3395.0\n"
     ]
    }
   ],
   "source": [
    "print('The average salary is', df_users['salario'].mean())"
   ]
  },
  {
   "cell_type": "code",
   "execution_count": 76,
   "id": "45325989",
   "metadata": {},
   "outputs": [
    {
     "name": "stdout",
     "output_type": "stream",
     "text": [
      "The average salary is R$ 3395.00\n"
     ]
    }
   ],
   "source": [
    "average_salary = df_users['salario'].mean()\n",
    "print(f'The average salary is R$ {average_salary:.2f}')"
   ]
  },
  {
   "cell_type": "markdown",
   "id": "ca54c85d",
   "metadata": {},
   "source": [
    "* Using the **_sum( )_ Method** is used to calculate the sum of values within a Series or DataFrame."
   ]
  },
  {
   "cell_type": "code",
   "execution_count": 34,
   "id": "934453ac",
   "metadata": {},
   "outputs": [
    {
     "name": "stdout",
     "output_type": "stream",
     "text": [
      "The salary total is 10185\n"
     ]
    }
   ],
   "source": [
    "print('The salary total is', df_users['salario'].sum())"
   ]
  },
  {
   "cell_type": "code",
   "execution_count": 40,
   "id": "1defd01f",
   "metadata": {},
   "outputs": [
    {
     "name": "stdout",
     "output_type": "stream",
     "text": [
      "The salary total is R$ 10185.00\n"
     ]
    }
   ],
   "source": [
    "salary_sum = df_users['salario'].sum()\n",
    "print(f'The salary total is R$ {salary_sum:.2f}')"
   ]
  },
  {
   "cell_type": "markdown",
   "id": "1a1b9715",
   "metadata": {},
   "source": [
    "* Using the **_describe( )_ Method** to generate a **statistical summary** of a specific DataFrame or Series."
   ]
  },
  {
   "cell_type": "code",
   "execution_count": 41,
   "id": "aacae46b",
   "metadata": {},
   "outputs": [
    {
     "name": "stdout",
     "output_type": "stream",
     "text": [
      "<bound method NDFrame.describe of 0    4380\n",
      "1    3550\n",
      "2    2255\n",
      "Name: salario, dtype: int64>\n"
     ]
    }
   ],
   "source": [
    "print(df_users['salario'].describe)"
   ]
  },
  {
   "cell_type": "markdown",
   "id": "e92f85a9",
   "metadata": {},
   "source": [
    "* Using the **_groupby()_ Method** is used to group DataFrames"
   ]
  },
  {
   "cell_type": "code",
   "execution_count": 45,
   "id": "e4a5d10c",
   "metadata": {},
   "outputs": [
    {
     "name": "stdout",
     "output_type": "stream",
     "text": [
      "           nome  idade  endereco  nacionalidade  salario\n",
      "sexo                                                    \n",
      "Feminino      1      1         1              1        1\n",
      "Masculino     2      2         2              2        2\n"
     ]
    }
   ],
   "source": [
    "print(df_users.groupby(by='sexo').count())"
   ]
  },
  {
   "cell_type": "code",
   "execution_count": 73,
   "id": "c260f8ec",
   "metadata": {},
   "outputs": [
    {
     "name": "stdout",
     "output_type": "stream",
     "text": [
      "sexo\n",
      "Feminino     3550.0\n",
      "Masculino    3317.5\n",
      "Name: salario, dtype: float64\n"
     ]
    }
   ],
   "source": [
    "print(df_users.groupby(by='sexo')['salario'].mean())"
   ]
  }
 ],
 "metadata": {
  "kernelspec": {
   "display_name": "Python 3",
   "language": "python",
   "name": "python3"
  },
  "language_info": {
   "codemirror_mode": {
    "name": "ipython",
    "version": 3
   },
   "file_extension": ".py",
   "mimetype": "text/x-python",
   "name": "python",
   "nbconvert_exporter": "python",
   "pygments_lexer": "ipython3",
   "version": "3.13.3"
  }
 },
 "nbformat": 4,
 "nbformat_minor": 5
}

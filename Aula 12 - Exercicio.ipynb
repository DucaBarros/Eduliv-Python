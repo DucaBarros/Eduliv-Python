{
 "cells": [
  {
   "cell_type": "markdown",
   "id": "85a021ef",
   "metadata": {},
   "source": [
    "## Curso EduLiv > Análise de Dados > Mentoria Python Extermo\n",
    "### Aula 12: Exercício de Fixação\n",
    "\n",
    "**EXERCÍCIO**\n",
    "1. Obtenha do usuário **5 números inteiros**\n",
    "2. Salve esses 5 números em variáveis diferentes\n",
    "3. Multiplique esses _5 números_\n",
    "4. Mostre o resultado em tela"
   ]
  },
  {
   "cell_type": "code",
   "execution_count": null,
   "id": "dc0116fa",
   "metadata": {},
   "outputs": [],
   "source": [
    "numero1 = int(input('Digite o primeiro número: '))\n",
    "numero2 = int(input('Digite o segundo número: '))\n",
    "numero3 = int(input('Digite o terceiro número: '))\n",
    "numero4 = int(input('Digite o quarto número: '))\n",
    "numero5 = int(input('Digite o quinto número: '))\n",
    "\n",
    "multiplicador = numero1 * numero2 * numero3 * numero4 * numero5\n",
    "\n",
    "print('--------------------')\n",
    "print(f'O resultado da multiplicação dos números é: {multiplicador}')"
   ]
  }
 ],
 "metadata": {
  "kernelspec": {
   "display_name": "Python 3",
   "language": "python",
   "name": "python3"
  },
  "language_info": {
   "codemirror_mode": {
    "name": "ipython",
    "version": 3
   },
   "file_extension": ".py",
   "mimetype": "text/x-python",
   "name": "python",
   "nbconvert_exporter": "python",
   "pygments_lexer": "ipython3",
   "version": "3.13.3"
  }
 },
 "nbformat": 4,
 "nbformat_minor": 5
}

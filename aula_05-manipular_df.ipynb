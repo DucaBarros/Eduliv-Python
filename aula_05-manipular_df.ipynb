{
 "cells": [
  {
   "cell_type": "markdown",
   "id": "eb2a137e",
   "metadata": {},
   "source": [
    "* **_read_excel()_** is a Function that is used to read data from an Excel file into a Pandas DataFrame."
   ]
  }
 ],
 "metadata": {
  "language_info": {
   "name": "python"
  }
 },
 "nbformat": 4,
 "nbformat_minor": 5
}

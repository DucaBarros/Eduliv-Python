{
 "cells": [
  {
   "cell_type": "markdown",
   "id": "1f21caff",
   "metadata": {},
   "source": [
    "**Aula 10 - Comandos mágicos para células**"
   ]
  },
  {
   "cell_type": "code",
   "execution_count": 7,
   "id": "04b278ef",
   "metadata": {},
   "outputs": [
    {
     "data": {
      "text/html": [
       "\n",
       "<form action=\"\">\n",
       "    <div>\n",
       "        <label name=\"email\">Informe aqui seu email</label>\n",
       "        <input type=\"email\" name=\"email\" placeholder=\"Digite aqui seu email\">\n",
       "    </div>\n",
       "    <input id=\"button-submit\" type=\"button\" value=\"Salvar e-mail\">\n",
       "</form>\n"
      ],
      "text/plain": [
       "<IPython.core.display.HTML object>"
      ]
     },
     "metadata": {},
     "output_type": "display_data"
    }
   ],
   "source": [
    "%%html\n",
    "\n",
    "<form action=\"\">\n",
    "    <div>\n",
    "        <label name=\"email\">Informe aqui seu email</label>\n",
    "        <input type=\"email\" name=\"email\" placeholder=\"Digite aqui seu email\">\n",
    "    </div>\n",
    "    <input id=\"button-submit\" type=\"button\" value=\"Salvar e-mail\">\n",
    "</form>"
   ]
  },
  {
   "cell_type": "code",
   "execution_count": 8,
   "id": "e756247f",
   "metadata": {},
   "outputs": [
    {
     "data": {
      "application/javascript": "\nfunction buttonClick(event){\n    const valueEmail = document.querySelector(\"#email\").value;\n    alert(`O email informado é: ${valueEmail}`);\n}\n\nconst button = document.querySelector(\"#button-submit\");\nbutton.addEventListener(\"click\", buttonClick);\n",
      "text/plain": [
       "<IPython.core.display.Javascript object>"
      ]
     },
     "metadata": {},
     "output_type": "display_data"
    }
   ],
   "source": [
    "%%javascript\n",
    "\n",
    "function buttonClick(event){\n",
    "    const valueEmail = document.querySelector(\"#email\").value;\n",
    "    alert(`O email informado é: ${valueEmail}`);\n",
    "}\n",
    "\n",
    "const button = document.querySelector(\"#button-submit\");\n",
    "button.addEventListener(\"click\", buttonClick);"
   ]
  },
  {
   "cell_type": "markdown",
   "id": "5117f430",
   "metadata": {},
   "source": [
    "**Rodando os códigos nativamente em células**\n",
    "\n",
    "[Local da Imagem](/03.%20PYTHON/EduLiv_Ciencia_de_Dados/Jupyter/ipynb_cell_python-01.jpg)"
   ]
  },
  {
   "cell_type": "code",
   "execution_count": 5,
   "id": "b4d971e7",
   "metadata": {
    "vscode": {
     "languageId": "html"
    }
   },
   "outputs": [
    {
     "ename": "SyntaxError",
     "evalue": "unmatched ')' (3980426518.py, line 2)",
     "output_type": "error",
     "traceback": [
      "  \u001b[36mCell\u001b[39m\u001b[36m \u001b[39m\u001b[32mIn[5]\u001b[39m\u001b[32m, line 2\u001b[39m\n\u001b[31m    \u001b[39m\u001b[31m<p> 1) Clique no botão no canto inferior direito da célula on está escrito python ou markdown</p>\u001b[39m\n         ^\n\u001b[31mSyntaxError\u001b[39m\u001b[31m:\u001b[39m unmatched ')'\n"
     ]
    }
   ],
   "source": [
    "<div>\n",
    "    <p> 1) Clique no botão no canto inferior direito da célula on está escrito python ou markdown</p>\n",
    "    <img src=\"/03.%20PYTHON/EduLiv_Ciencia_de_Dados/Jupyter/ipynb_cell_python-01.jpg\" alt=\"\">\n",
    "    \n",
    "</div>"
   ]
  }
 ],
 "metadata": {
  "kernelspec": {
   "display_name": "Python 3",
   "language": "python",
   "name": "python3"
  },
  "language_info": {
   "codemirror_mode": {
    "name": "ipython",
    "version": 3
   },
   "file_extension": ".py",
   "mimetype": "text/x-python",
   "name": "python",
   "nbconvert_exporter": "python",
   "pygments_lexer": "ipython3",
   "version": "3.13.3"
  }
 },
 "nbformat": 4,
 "nbformat_minor": 5
}

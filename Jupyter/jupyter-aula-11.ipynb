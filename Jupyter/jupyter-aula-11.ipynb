{
 "cells": [
  {
   "cell_type": "markdown",
   "id": "6ee760f8",
   "metadata": {},
   "source": [
    "**Aula 11 - Obtendo dados de células**"
   ]
  },
  {
   "cell_type": "code",
   "execution_count": 4,
   "id": "18754e05",
   "metadata": {},
   "outputs": [
    {
     "data": {
      "text/plain": [
       "10"
      ]
     },
     "execution_count": 4,
     "metadata": {},
     "output_type": "execute_result"
    }
   ],
   "source": [
    "x = 10\n",
    "x"
   ]
  },
  {
   "cell_type": "code",
   "execution_count": 5,
   "id": "c71df5b9",
   "metadata": {},
   "outputs": [
    {
     "data": {
      "text/plain": [
       "20"
      ]
     },
     "execution_count": 5,
     "metadata": {},
     "output_type": "execute_result"
    }
   ],
   "source": [
    "y = 20\n",
    "y"
   ]
  },
  {
   "cell_type": "code",
   "execution_count": 6,
   "id": "970ecfb9",
   "metadata": {},
   "outputs": [
    {
     "data": {
      "text/plain": [
       "30"
      ]
     },
     "execution_count": 6,
     "metadata": {},
     "output_type": "execute_result"
    }
   ],
   "source": [
    "z = 30\n",
    "z"
   ]
  },
  {
   "cell_type": "markdown",
   "id": "268632ee",
   "metadata": {},
   "source": [
    "#### Obtendo as entradas das células"
   ]
  },
  {
   "cell_type": "code",
   "execution_count": 7,
   "id": "b677de91",
   "metadata": {},
   "outputs": [
    {
     "data": {
      "text/plain": [
       "'x = 10\\nx'"
      ]
     },
     "execution_count": 7,
     "metadata": {},
     "output_type": "execute_result"
    }
   ],
   "source": [
    "_iii"
   ]
  },
  {
   "cell_type": "code",
   "execution_count": 8,
   "id": "a63042c1",
   "metadata": {},
   "outputs": [
    {
     "data": {
      "text/plain": [
       "'z = 30\\nz'"
      ]
     },
     "execution_count": 8,
     "metadata": {},
     "output_type": "execute_result"
    }
   ],
   "source": [
    "_ii"
   ]
  },
  {
   "cell_type": "code",
   "execution_count": 9,
   "id": "e8744a66",
   "metadata": {},
   "outputs": [
    {
     "data": {
      "text/plain": [
       "'_ii'"
      ]
     },
     "execution_count": 9,
     "metadata": {},
     "output_type": "execute_result"
    }
   ],
   "source": [
    "_i"
   ]
  },
  {
   "cell_type": "markdown",
   "id": "f2573f6b",
   "metadata": {},
   "source": [
    "* Out: Lista das entradas da célula"
   ]
  },
  {
   "cell_type": "code",
   "execution_count": 10,
   "id": "c250996a",
   "metadata": {},
   "outputs": [
    {
     "data": {
      "text/plain": [
       "['',\n",
       " '_iii',\n",
       " '_ii',\n",
       " '_i',\n",
       " 'x = 10\\nx',\n",
       " 'y = 20\\ny',\n",
       " 'z = 30\\nz',\n",
       " '_iii',\n",
       " '_ii',\n",
       " '_i',\n",
       " 'In']"
      ]
     },
     "execution_count": 10,
     "metadata": {},
     "output_type": "execute_result"
    }
   ],
   "source": [
    "In"
   ]
  },
  {
   "cell_type": "code",
   "execution_count": 11,
   "id": "a031cb80",
   "metadata": {},
   "outputs": [
    {
     "data": {
      "text/plain": [
       "'z = 30\\nz'"
      ]
     },
     "execution_count": 11,
     "metadata": {},
     "output_type": "execute_result"
    }
   ],
   "source": [
    "In[-6]"
   ]
  },
  {
   "cell_type": "code",
   "execution_count": 13,
   "id": "1d464c08",
   "metadata": {},
   "outputs": [
    {
     "data": {
      "text/plain": [
       "['',\n",
       " '_iii',\n",
       " '_ii',\n",
       " '_i',\n",
       " 'x = 10\\nx',\n",
       " 'y = 20\\ny',\n",
       " 'z = 30\\nz',\n",
       " '_iii',\n",
       " '_ii',\n",
       " '_i',\n",
       " 'In',\n",
       " 'In[-6]',\n",
       " 'Ih',\n",
       " '_ih']"
      ]
     },
     "execution_count": 13,
     "metadata": {},
     "output_type": "execute_result"
    }
   ],
   "source": [
    "_ih"
   ]
  },
  {
   "cell_type": "markdown",
   "id": "dcbf36dc",
   "metadata": {},
   "source": [
    "#### Obtendo as saídas das células"
   ]
  },
  {
   "cell_type": "markdown",
   "id": "5a1f5564",
   "metadata": {},
   "source": [
    "* Out: Dicionário da saída da célula"
   ]
  },
  {
   "cell_type": "code",
   "execution_count": 17,
   "id": "f8b119c0",
   "metadata": {},
   "outputs": [
    {
     "data": {
      "text/plain": [
       "{1: '',\n",
       " 2: '',\n",
       " 3: '_ii',\n",
       " 4: 10,\n",
       " 5: 20,\n",
       " 6: 30,\n",
       " 7: 'x = 10\\nx',\n",
       " 8: 'z = 30\\nz',\n",
       " 9: '_ii',\n",
       " 10: ['',\n",
       "  '_iii',\n",
       "  '_ii',\n",
       "  '_i',\n",
       "  'x = 10\\nx',\n",
       "  'y = 20\\ny',\n",
       "  'z = 30\\nz',\n",
       "  '_iii',\n",
       "  '_ii',\n",
       "  '_i',\n",
       "  'In',\n",
       "  'In[-6]',\n",
       "  'Ih',\n",
       "  '_ih',\n",
       "  'Out',\n",
       "  'Out[6]',\n",
       "  'Out[12]',\n",
       "  'Out'],\n",
       " 11: 'z = 30\\nz',\n",
       " 13: ['',\n",
       "  '_iii',\n",
       "  '_ii',\n",
       "  '_i',\n",
       "  'x = 10\\nx',\n",
       "  'y = 20\\ny',\n",
       "  'z = 30\\nz',\n",
       "  '_iii',\n",
       "  '_ii',\n",
       "  '_i',\n",
       "  'In',\n",
       "  'In[-6]',\n",
       "  'Ih',\n",
       "  '_ih',\n",
       "  'Out',\n",
       "  'Out[6]',\n",
       "  'Out[12]',\n",
       "  'Out'],\n",
       " 15: 30}"
      ]
     },
     "execution_count": 17,
     "metadata": {},
     "output_type": "execute_result"
    }
   ],
   "source": [
    "Out"
   ]
  },
  {
   "cell_type": "code",
   "execution_count": 15,
   "id": "41d60aed",
   "metadata": {},
   "outputs": [
    {
     "data": {
      "text/plain": [
       "30"
      ]
     },
     "execution_count": 15,
     "metadata": {},
     "output_type": "execute_result"
    }
   ],
   "source": [
    "Out[6]"
   ]
  },
  {
   "cell_type": "code",
   "execution_count": 20,
   "id": "96a58c1c",
   "metadata": {},
   "outputs": [
    {
     "data": {
      "text/plain": [
       "'_ii'"
      ]
     },
     "execution_count": 20,
     "metadata": {},
     "output_type": "execute_result"
    }
   ],
   "source": [
    "Out[9]"
   ]
  },
  {
   "cell_type": "code",
   "execution_count": 22,
   "id": "1b8b06dc",
   "metadata": {},
   "outputs": [
    {
     "data": {
      "text/plain": [
       "{1: '',\n",
       " 2: '',\n",
       " 3: '_ii',\n",
       " 4: 10,\n",
       " 5: 20,\n",
       " 6: 30,\n",
       " 7: 'x = 10\\nx',\n",
       " 8: 'z = 30\\nz',\n",
       " 9: '_ii',\n",
       " 10: ['',\n",
       "  '_iii',\n",
       "  '_ii',\n",
       "  '_i',\n",
       "  'x = 10\\nx',\n",
       "  'y = 20\\ny',\n",
       "  'z = 30\\nz',\n",
       "  '_iii',\n",
       "  '_ii',\n",
       "  '_i',\n",
       "  'In',\n",
       "  'In[-6]',\n",
       "  'Ih',\n",
       "  '_ih',\n",
       "  'Out',\n",
       "  'Out[6]',\n",
       "  'Out[12]',\n",
       "  'Out',\n",
       "  'Out[12]',\n",
       "  'Out[10]',\n",
       "  'Out[9]',\n",
       "  '_oh[3]',\n",
       "  '_oh'],\n",
       " 11: 'z = 30\\nz',\n",
       " 13: ['',\n",
       "  '_iii',\n",
       "  '_ii',\n",
       "  '_i',\n",
       "  'x = 10\\nx',\n",
       "  'y = 20\\ny',\n",
       "  'z = 30\\nz',\n",
       "  '_iii',\n",
       "  '_ii',\n",
       "  '_i',\n",
       "  'In',\n",
       "  'In[-6]',\n",
       "  'Ih',\n",
       "  '_ih',\n",
       "  'Out',\n",
       "  'Out[6]',\n",
       "  'Out[12]',\n",
       "  'Out',\n",
       "  'Out[12]',\n",
       "  'Out[10]',\n",
       "  'Out[9]',\n",
       "  '_oh[3]',\n",
       "  '_oh'],\n",
       " 15: 30,\n",
       " 19: ['',\n",
       "  '_iii',\n",
       "  '_ii',\n",
       "  '_i',\n",
       "  'x = 10\\nx',\n",
       "  'y = 20\\ny',\n",
       "  'z = 30\\nz',\n",
       "  '_iii',\n",
       "  '_ii',\n",
       "  '_i',\n",
       "  'In',\n",
       "  'In[-6]',\n",
       "  'Ih',\n",
       "  '_ih',\n",
       "  'Out',\n",
       "  'Out[6]',\n",
       "  'Out[12]',\n",
       "  'Out',\n",
       "  'Out[12]',\n",
       "  'Out[10]',\n",
       "  'Out[9]',\n",
       "  '_oh[3]',\n",
       "  '_oh'],\n",
       " 20: '_ii',\n",
       " 21: '_ii'}"
      ]
     },
     "execution_count": 22,
     "metadata": {},
     "output_type": "execute_result"
    }
   ],
   "source": [
    "_oh"
   ]
  },
  {
   "cell_type": "code",
   "execution_count": 23,
   "id": "dd50597f",
   "metadata": {},
   "outputs": [
    {
     "data": {
      "text/plain": [
       "'_ii'"
      ]
     },
     "execution_count": 23,
     "metadata": {},
     "output_type": "execute_result"
    }
   ],
   "source": [
    "_oh[3]"
   ]
  }
 ],
 "metadata": {
  "kernelspec": {
   "display_name": "Python 3",
   "language": "python",
   "name": "python3"
  },
  "language_info": {
   "codemirror_mode": {
    "name": "ipython",
    "version": 3
   },
   "file_extension": ".py",
   "mimetype": "text/x-python",
   "name": "python",
   "nbconvert_exporter": "python",
   "pygments_lexer": "ipython3",
   "version": "3.13.3"
  }
 },
 "nbformat": 4,
 "nbformat_minor": 5
}

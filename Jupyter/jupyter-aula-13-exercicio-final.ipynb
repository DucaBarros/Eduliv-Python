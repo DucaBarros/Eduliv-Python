{
 "cells": [
  {
   "cell_type": "markdown",
   "id": "0cab1614",
   "metadata": {},
   "source": [
    "**Aula 13 - Calculadora com Widget - Resolução**\n",
    "\n",
    "[Widgets Documentation - English](https://ipywidgets.readthedocs.io/en/stable/examples/Widget%20List.html)\n",
    "\n",
    "1. Utilizando widgets, crie uma calculadora em que o usuário consiga informar dois números e essa calculadora me retorne a soma, subtração, multiplicação e divisão.\n",
    "\n",
    "2. Utilizando widgets, crie uma calculadora que o usuário informe o primeiro número, o segundo número e operação entre eles. Podendo ser: soma, subtração, multiplicação ou divisão."
   ]
  },
  {
   "cell_type": "code",
   "execution_count": 2,
   "id": "03048fb1",
   "metadata": {},
   "outputs": [],
   "source": [
    "from ipywidgets import widgets"
   ]
  },
  {
   "cell_type": "code",
   "execution_count": null,
   "id": "506c2778",
   "metadata": {},
   "outputs": [],
   "source": []
  }
 ],
 "metadata": {
  "kernelspec": {
   "display_name": "Python 3",
   "language": "python",
   "name": "python3"
  },
  "language_info": {
   "codemirror_mode": {
    "name": "ipython",
    "version": 3
   },
   "file_extension": ".py",
   "mimetype": "text/x-python",
   "name": "python",
   "nbconvert_exporter": "python",
   "pygments_lexer": "ipython3",
   "version": "3.13.3"
  }
 },
 "nbformat": 4,
 "nbformat_minor": 5
}

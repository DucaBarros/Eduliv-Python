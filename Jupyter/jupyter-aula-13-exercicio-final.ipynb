{
 "cells": [
  {
   "cell_type": "markdown",
   "id": "0cab1614",
   "metadata": {},
   "source": [
    "**Aula 13 - Calculadora com Widget - Resolução**\n",
    "\n",
    "[Widgets Documentation - English](https://ipywidgets.readthedocs.io/en/stable/examples/Widget%20List.html)\n",
    "\n",
    "1. Utilizando widgets, crie uma calculadora em que o usuário consiga informar dois números e essa calculadora me retorne a soma, subtração, multiplicação e divisão.\n",
    "\n",
    "2. Utilizando widgets, crie uma calculadora que o usuário informe o primeiro número, o segundo número e operação entre eles. Podendo ser: soma, subtração, multiplicação ou divisão."
   ]
  },
  {
   "cell_type": "markdown",
   "id": "6081da68",
   "metadata": {},
   "source": [
    "* Iniciando o código importando a biblioteca"
   ]
  },
  {
   "cell_type": "code",
   "execution_count": 23,
   "id": "641c611e",
   "metadata": {},
   "outputs": [],
   "source": [
    "from ipywidgets import widgets"
   ]
  },
  {
   "cell_type": "markdown",
   "id": "8a6b46aa",
   "metadata": {},
   "source": [
    "* Criando a lista de botões"
   ]
  },
  {
   "cell_type": "code",
   "execution_count": 24,
   "id": "21bc4b2d",
   "metadata": {},
   "outputs": [
    {
     "data": {
      "application/vnd.jupyter.widget-view+json": {
       "model_id": "9868fc43fde941808aa2e517963e3375",
       "version_major": 2,
       "version_minor": 0
      },
      "text/plain": [
       "Button(description='7', style=ButtonStyle())"
      ]
     },
     "metadata": {},
     "output_type": "display_data"
    },
    {
     "data": {
      "application/vnd.jupyter.widget-view+json": {
       "model_id": "7be713fccfb34fd981099a8e0f0f903f",
       "version_major": 2,
       "version_minor": 0
      },
      "text/plain": [
       "Button(description='8', style=ButtonStyle())"
      ]
     },
     "metadata": {},
     "output_type": "display_data"
    },
    {
     "data": {
      "application/vnd.jupyter.widget-view+json": {
       "model_id": "9de031d1d5514d84b13edf2a19fe66c9",
       "version_major": 2,
       "version_minor": 0
      },
      "text/plain": [
       "Button(description='9', style=ButtonStyle())"
      ]
     },
     "metadata": {},
     "output_type": "display_data"
    },
    {
     "data": {
      "application/vnd.jupyter.widget-view+json": {
       "model_id": "f2d19982945f4003ad8ad5020691db7f",
       "version_major": 2,
       "version_minor": 0
      },
      "text/plain": [
       "Button(description='+', style=ButtonStyle())"
      ]
     },
     "metadata": {},
     "output_type": "display_data"
    },
    {
     "data": {
      "application/vnd.jupyter.widget-view+json": {
       "model_id": "cd2639e0a80f42ae9ef9de746b82e21d",
       "version_major": 2,
       "version_minor": 0
      },
      "text/plain": [
       "Button(description='4', style=ButtonStyle())"
      ]
     },
     "metadata": {},
     "output_type": "display_data"
    },
    {
     "data": {
      "application/vnd.jupyter.widget-view+json": {
       "model_id": "31ffe595dedd4015917e76e5311fd988",
       "version_major": 2,
       "version_minor": 0
      },
      "text/plain": [
       "Button(description='5', style=ButtonStyle())"
      ]
     },
     "metadata": {},
     "output_type": "display_data"
    },
    {
     "data": {
      "application/vnd.jupyter.widget-view+json": {
       "model_id": "b763d6e7319c4fb3aedd82db245e889a",
       "version_major": 2,
       "version_minor": 0
      },
      "text/plain": [
       "Button(description='6', style=ButtonStyle())"
      ]
     },
     "metadata": {},
     "output_type": "display_data"
    },
    {
     "data": {
      "application/vnd.jupyter.widget-view+json": {
       "model_id": "e4fb2b4966b343ee981431933162aa7a",
       "version_major": 2,
       "version_minor": 0
      },
      "text/plain": [
       "Button(description='-', style=ButtonStyle())"
      ]
     },
     "metadata": {},
     "output_type": "display_data"
    },
    {
     "data": {
      "application/vnd.jupyter.widget-view+json": {
       "model_id": "3776b5f9f56243dcaa9ab36f217e905d",
       "version_major": 2,
       "version_minor": 0
      },
      "text/plain": [
       "Button(description='1', style=ButtonStyle())"
      ]
     },
     "metadata": {},
     "output_type": "display_data"
    },
    {
     "data": {
      "application/vnd.jupyter.widget-view+json": {
       "model_id": "5e1c580dea8d4e7fa216695ba62cd6a4",
       "version_major": 2,
       "version_minor": 0
      },
      "text/plain": [
       "Button(description='2', style=ButtonStyle())"
      ]
     },
     "metadata": {},
     "output_type": "display_data"
    },
    {
     "data": {
      "application/vnd.jupyter.widget-view+json": {
       "model_id": "eb0512e728f6480b88a7c9b4c0698e6f",
       "version_major": 2,
       "version_minor": 0
      },
      "text/plain": [
       "Button(description='3', style=ButtonStyle())"
      ]
     },
     "metadata": {},
     "output_type": "display_data"
    },
    {
     "data": {
      "application/vnd.jupyter.widget-view+json": {
       "model_id": "5c6d72f994a842bc9ab01aa0209834fa",
       "version_major": 2,
       "version_minor": 0
      },
      "text/plain": [
       "Button(description='x', style=ButtonStyle())"
      ]
     },
     "metadata": {},
     "output_type": "display_data"
    },
    {
     "data": {
      "application/vnd.jupyter.widget-view+json": {
       "model_id": "77c4639b06b74212861cf046404020b0",
       "version_major": 2,
       "version_minor": 0
      },
      "text/plain": [
       "Button(description='0', style=ButtonStyle())"
      ]
     },
     "metadata": {},
     "output_type": "display_data"
    },
    {
     "data": {
      "application/vnd.jupyter.widget-view+json": {
       "model_id": "8c40c5d735674756a2cb16f21337739d",
       "version_major": 2,
       "version_minor": 0
      },
      "text/plain": [
       "Button(description='÷', style=ButtonStyle())"
      ]
     },
     "metadata": {},
     "output_type": "display_data"
    },
    {
     "data": {
      "application/vnd.jupyter.widget-view+json": {
       "model_id": "2492ccc383af474787e1f42c1ffc6c7e",
       "version_major": 2,
       "version_minor": 0
      },
      "text/plain": [
       "Button(description='=', style=ButtonStyle())"
      ]
     },
     "metadata": {},
     "output_type": "display_data"
    },
    {
     "data": {
      "application/vnd.jupyter.widget-view+json": {
       "model_id": "af240f31289d46cf91567d5bdd058141",
       "version_major": 2,
       "version_minor": 0
      },
      "text/plain": [
       "Button(description='C', style=ButtonStyle())"
      ]
     },
     "metadata": {},
     "output_type": "display_data"
    }
   ],
   "source": [
    "buttons_list = [\n",
    "    widgets.Button(description=\"7\"),\n",
    "    widgets.Button(description=\"8\"),\n",
    "    widgets.Button(description=\"9\"),\n",
    "    widgets.Button(description=\"+\"),\n",
    "    widgets.Button(description=\"4\"),\n",
    "    widgets.Button(description=\"5\"),\n",
    "    widgets.Button(description=\"6\"),\n",
    "    widgets.Button(description=\"-\"),\n",
    "    widgets.Button(description=\"1\"),\n",
    "    widgets.Button(description=\"2\"),\n",
    "    widgets.Button(description=\"3\"),\n",
    "    widgets.Button(description=\"x\"),\n",
    "    widgets.Button(description=\"0\"),\n",
    "    widgets.Button(description=\"÷\"),\n",
    "    widgets.Button(description=\"=\"),\n",
    "    widgets.Button(description=\"C\")\n",
    "]\n",
    "\n",
    "display(*buttons_list)"
   ]
  },
  {
   "cell_type": "markdown",
   "id": "d1c63bbf",
   "metadata": {},
   "source": [
    "* Melhorando o código"
   ]
  },
  {
   "cell_type": "code",
   "execution_count": 20,
   "id": "03048fb1",
   "metadata": {},
   "outputs": [],
   "source": [
    "from ipywidgets import widgets, Layout"
   ]
  },
  {
   "cell_type": "markdown",
   "id": "4e444b2e",
   "metadata": {},
   "source": [
    "* Adicionando os tamanhos dos botões na lista"
   ]
  },
  {
   "cell_type": "code",
   "execution_count": 22,
   "id": "48980d72",
   "metadata": {},
   "outputs": [
    {
     "data": {
      "text/plain": [
       "0"
      ]
     },
     "metadata": {},
     "output_type": "display_data"
    },
    {
     "data": {
      "application/vnd.jupyter.widget-view+json": {
       "model_id": "b5cdce0a59b44e25ae6d722f2e34a18e",
       "version_major": 2,
       "version_minor": 0
      },
      "text/plain": [
       "HBox(children=(Button(description='7', layout=Layout(height='30px', width='40px'), style=ButtonStyle()), Butto…"
      ]
     },
     "metadata": {},
     "output_type": "display_data"
    },
    {
     "data": {
      "application/vnd.jupyter.widget-view+json": {
       "model_id": "25e2f5d612804e9cb1e1da81f683adcd",
       "version_major": 2,
       "version_minor": 0
      },
      "text/plain": [
       "HBox(children=(Button(description='4', layout=Layout(height='30px', width='40px'), style=ButtonStyle()), Butto…"
      ]
     },
     "metadata": {},
     "output_type": "display_data"
    },
    {
     "data": {
      "application/vnd.jupyter.widget-view+json": {
       "model_id": "d347ee9bb16b4da5960a078591f75004",
       "version_major": 2,
       "version_minor": 0
      },
      "text/plain": [
       "HBox(children=(Button(description='1', layout=Layout(height='30px', width='40px'), style=ButtonStyle()), Butto…"
      ]
     },
     "metadata": {},
     "output_type": "display_data"
    },
    {
     "data": {
      "application/vnd.jupyter.widget-view+json": {
       "model_id": "9d91d8851eef4523865aa8ca081a287f",
       "version_major": 2,
       "version_minor": 0
      },
      "text/plain": [
       "HBox(children=(Button(description='C', layout=Layout(height='30px', width='40px'), style=ButtonStyle()), Butto…"
      ]
     },
     "metadata": {},
     "output_type": "display_data"
    }
   ],
   "source": [
    "# Funções matemáticas\n",
    "def pressed_button(button):\n",
    "    value = display(button.description)\n",
    "    \n",
    "def sum(a, b):\n",
    "    return a + b\n",
    "\n",
    "def subtract(a, b):\n",
    "    return a - b\n",
    "\n",
    "def multiply(a, b):\n",
    "    return a * b\n",
    "\n",
    "def divide(a, b):\n",
    "    return a / b\n",
    "\n",
    "# Sessão das variáveis\n",
    "#Variáveis dos botões\n",
    "# Row 1\n",
    "bt7 = widgets.Button(description=\"7\", layout=Layout(width='40px', height='30px'))\n",
    "bt8 = widgets.Button(description=\"8\", layout=Layout(width='40px', height='30px'))\n",
    "bt9 = widgets.Button(description=\"9\", layout=Layout(width='40px', height='30px'))\n",
    "bt_sum = widgets.Button(description=\"+\", layout=Layout(width='40px', height='30px'))\n",
    "\n",
    "# Row 2\n",
    "bt4 = widgets.Button(description=\"4\", layout=Layout(width='40px', height='30px'))\n",
    "bt5 = widgets.Button(description=\"5\", layout=Layout(width='40px', height='30px'))\n",
    "bt6 = widgets.Button(description=\"6\", layout=Layout(width='40px', height='30px'))\n",
    "bt_sub = widgets.Button(description=\"-\", layout=Layout(width='40px', height='30px'))\n",
    "\n",
    "# Row 3\n",
    "bt1 = widgets.Button(description=\"1\", layout=Layout(width='40px', height='30px'))\n",
    "bt2 = widgets.Button(description=\"2\", layout=Layout(width='40px', height='30px'))\n",
    "bt3 = widgets.Button(description=\"3\", layout=Layout(width='40px', height='30px'))\n",
    "bt_mul = widgets.Button(description=\"x\", layout=Layout(width='40px', height='30px'))\n",
    "\n",
    "# Row 4\n",
    "bt_c = widgets.Button(description=\"C\", layout=Layout(width='40px', height='30px'))\n",
    "bt0 = widgets.Button(description=\"0\", layout=Layout(width='40px', height='30px'))\n",
    "bt_equ = widgets.Button(description=\"=\", layout=Layout(width='40px', height='30px'))\n",
    "bt_div = widgets.Button(description=\"÷\", layout=Layout(width='40px', height='30px'))\n",
    "\n",
    "# Ações de pressionar os botões\n",
    "bt0.on_click(pressed_button)\n",
    "bt1.on_click(pressed_button)\n",
    "bt2.on_click(pressed_button)\n",
    "bt3.on_click(pressed_button)\n",
    "bt4.on_click(pressed_button)\n",
    "bt5.on_click(pressed_button)\n",
    "bt6.on_click(pressed_button)\n",
    "bt7.on_click(pressed_button)\n",
    "bt8.on_click(pressed_button)\n",
    "bt9.on_click(pressed_button)\n",
    "\n",
    "# Organizando os botões em linhas\n",
    "row_1 = widgets.HBox([bt7, bt8, bt9, bt_sum])\n",
    "row_2 = widgets.HBox([bt4, bt5, bt6, bt_sub])\n",
    "row_3 = widgets.HBox([bt1, bt2, bt3, bt_mul])\n",
    "row_4 = widgets.HBox([bt_c, bt0, bt_equ, bt_div])\n",
    "\n",
    "# Display do resultado\n",
    "result = 0\n",
    "display(result)\n",
    "\n",
    "# Exibindo todos os botões\n",
    "display(row_1, row_2, row_3, row_4)"
   ]
  }
 ],
 "metadata": {
  "kernelspec": {
   "display_name": "Python 3",
   "language": "python",
   "name": "python3"
  },
  "language_info": {
   "codemirror_mode": {
    "name": "ipython",
    "version": 3
   },
   "file_extension": ".py",
   "mimetype": "text/x-python",
   "name": "python",
   "nbconvert_exporter": "python",
   "pygments_lexer": "ipython3",
   "version": "3.13.3"
  }
 },
 "nbformat": 4,
 "nbformat_minor": 5
}

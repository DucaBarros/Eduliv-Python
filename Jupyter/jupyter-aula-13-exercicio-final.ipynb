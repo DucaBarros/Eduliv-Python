{
 "cells": [
  {
   "cell_type": "markdown",
   "id": "0cab1614",
   "metadata": {},
   "source": [
    "**Aula 13 - Calculadora com Widget - Resolução**\n",
    "\n",
    "[Widgets Documentation - English](https://ipywidgets.readthedocs.io/en/stable/examples/Widget%20List.html)\n",
    "\n",
    "1. Utilizando widgets, crie uma calculadora em que o usuário consiga informar dois números e essa calculadora me retorne a soma, subtração, multiplicação e divisão.\n",
    "\n",
    "2. Utilizando widgets, crie uma calculadora que o usuário informe o primeiro número, o segundo número e operação entre eles. Podendo ser: soma, subtração, multiplicação ou divisão."
   ]
  },
  {
   "cell_type": "markdown",
   "id": "6081da68",
   "metadata": {},
   "source": [
    "* Iniciando o código importando a biblioteca"
   ]
  },
  {
   "cell_type": "code",
   "execution_count": 6,
   "id": "641c611e",
   "metadata": {},
   "outputs": [],
   "source": [
    "from ipywidgets import widgets"
   ]
  },
  {
   "cell_type": "markdown",
   "id": "8a6b46aa",
   "metadata": {},
   "source": [
    "* Criando a lista de botões"
   ]
  },
  {
   "cell_type": "code",
   "execution_count": 7,
   "id": "21bc4b2d",
   "metadata": {},
   "outputs": [
    {
     "data": {
      "application/vnd.jupyter.widget-view+json": {
       "model_id": "63dc5f228375407ca75e003fa1408990",
       "version_major": 2,
       "version_minor": 0
      },
      "text/plain": [
       "Button(description='7', style=ButtonStyle())"
      ]
     },
     "metadata": {},
     "output_type": "display_data"
    },
    {
     "data": {
      "application/vnd.jupyter.widget-view+json": {
       "model_id": "7a0c2a0e83ff4aca833720f9855a72d2",
       "version_major": 2,
       "version_minor": 0
      },
      "text/plain": [
       "Button(description='8', style=ButtonStyle())"
      ]
     },
     "metadata": {},
     "output_type": "display_data"
    },
    {
     "data": {
      "application/vnd.jupyter.widget-view+json": {
       "model_id": "7f8d4bfcf33b4a798117c203f8cd1131",
       "version_major": 2,
       "version_minor": 0
      },
      "text/plain": [
       "Button(description='9', style=ButtonStyle())"
      ]
     },
     "metadata": {},
     "output_type": "display_data"
    },
    {
     "data": {
      "application/vnd.jupyter.widget-view+json": {
       "model_id": "fb158a7316de4db2a6f3b039d48aa598",
       "version_major": 2,
       "version_minor": 0
      },
      "text/plain": [
       "Button(description='+', style=ButtonStyle())"
      ]
     },
     "metadata": {},
     "output_type": "display_data"
    },
    {
     "data": {
      "application/vnd.jupyter.widget-view+json": {
       "model_id": "be8468c84b144f55a9e4634ac2a9f3ed",
       "version_major": 2,
       "version_minor": 0
      },
      "text/plain": [
       "Button(description='4', style=ButtonStyle())"
      ]
     },
     "metadata": {},
     "output_type": "display_data"
    },
    {
     "data": {
      "application/vnd.jupyter.widget-view+json": {
       "model_id": "819395f6729b491e9dbe3e4b83c7fac0",
       "version_major": 2,
       "version_minor": 0
      },
      "text/plain": [
       "Button(description='5', style=ButtonStyle())"
      ]
     },
     "metadata": {},
     "output_type": "display_data"
    },
    {
     "data": {
      "application/vnd.jupyter.widget-view+json": {
       "model_id": "fcea927edc044695896a13b345f65671",
       "version_major": 2,
       "version_minor": 0
      },
      "text/plain": [
       "Button(description='6', style=ButtonStyle())"
      ]
     },
     "metadata": {},
     "output_type": "display_data"
    },
    {
     "data": {
      "application/vnd.jupyter.widget-view+json": {
       "model_id": "c44472e7f1624761a05fd36f0b25268e",
       "version_major": 2,
       "version_minor": 0
      },
      "text/plain": [
       "Button(description='-', style=ButtonStyle())"
      ]
     },
     "metadata": {},
     "output_type": "display_data"
    },
    {
     "data": {
      "application/vnd.jupyter.widget-view+json": {
       "model_id": "3ce863dd000a4e74802042f7ebd30adb",
       "version_major": 2,
       "version_minor": 0
      },
      "text/plain": [
       "Button(description='1', style=ButtonStyle())"
      ]
     },
     "metadata": {},
     "output_type": "display_data"
    },
    {
     "data": {
      "application/vnd.jupyter.widget-view+json": {
       "model_id": "02d3218adc2947c3877ed79b733424e4",
       "version_major": 2,
       "version_minor": 0
      },
      "text/plain": [
       "Button(description='2', style=ButtonStyle())"
      ]
     },
     "metadata": {},
     "output_type": "display_data"
    },
    {
     "data": {
      "application/vnd.jupyter.widget-view+json": {
       "model_id": "73a03ad9acdf4963a7003bd7119bd668",
       "version_major": 2,
       "version_minor": 0
      },
      "text/plain": [
       "Button(description='3', style=ButtonStyle())"
      ]
     },
     "metadata": {},
     "output_type": "display_data"
    },
    {
     "data": {
      "application/vnd.jupyter.widget-view+json": {
       "model_id": "7ec53076c0cd4c4b8179cadb0c9d4cf0",
       "version_major": 2,
       "version_minor": 0
      },
      "text/plain": [
       "Button(description='x', style=ButtonStyle())"
      ]
     },
     "metadata": {},
     "output_type": "display_data"
    },
    {
     "data": {
      "application/vnd.jupyter.widget-view+json": {
       "model_id": "2883298622a7407ba38727d153a9d08f",
       "version_major": 2,
       "version_minor": 0
      },
      "text/plain": [
       "Button(description='0', style=ButtonStyle())"
      ]
     },
     "metadata": {},
     "output_type": "display_data"
    },
    {
     "data": {
      "application/vnd.jupyter.widget-view+json": {
       "model_id": "0cad6562d24544a5a382cd60a34624c2",
       "version_major": 2,
       "version_minor": 0
      },
      "text/plain": [
       "Button(description='÷', style=ButtonStyle())"
      ]
     },
     "metadata": {},
     "output_type": "display_data"
    },
    {
     "data": {
      "application/vnd.jupyter.widget-view+json": {
       "model_id": "69b6ae3189db4673b79e2db818935b93",
       "version_major": 2,
       "version_minor": 0
      },
      "text/plain": [
       "Button(description='=', style=ButtonStyle())"
      ]
     },
     "metadata": {},
     "output_type": "display_data"
    },
    {
     "data": {
      "application/vnd.jupyter.widget-view+json": {
       "model_id": "63c09ea55fd444ce85b1e0c35a70a2b1",
       "version_major": 2,
       "version_minor": 0
      },
      "text/plain": [
       "Button(description='C', style=ButtonStyle())"
      ]
     },
     "metadata": {},
     "output_type": "display_data"
    }
   ],
   "source": [
    "buttons_list = [\n",
    "    widgets.Button(description=\"7\"),\n",
    "    widgets.Button(description=\"8\"),\n",
    "    widgets.Button(description=\"9\"),\n",
    "    widgets.Button(description=\"+\"),\n",
    "    widgets.Button(description=\"4\"),\n",
    "    widgets.Button(description=\"5\"),\n",
    "    widgets.Button(description=\"6\"),\n",
    "    widgets.Button(description=\"-\"),\n",
    "    widgets.Button(description=\"1\"),\n",
    "    widgets.Button(description=\"2\"),\n",
    "    widgets.Button(description=\"3\"),\n",
    "    widgets.Button(description=\"x\"),\n",
    "    widgets.Button(description=\"0\"),\n",
    "    widgets.Button(description=\"÷\"),\n",
    "    widgets.Button(description=\"=\"),\n",
    "    widgets.Button(description=\"C\")\n",
    "]\n",
    "\n",
    "display(*buttons_list)"
   ]
  },
  {
   "cell_type": "markdown",
   "id": "d1c63bbf",
   "metadata": {},
   "source": [
    "* Melhorando o código"
   ]
  },
  {
   "cell_type": "code",
   "execution_count": 1,
   "id": "03048fb1",
   "metadata": {},
   "outputs": [],
   "source": [
    "from ipywidgets import widgets, Layout"
   ]
  },
  {
   "cell_type": "markdown",
   "id": "4e444b2e",
   "metadata": {},
   "source": [
    "* Adicionando os tamanhos dos botões na lista"
   ]
  },
  {
   "cell_type": "code",
   "execution_count": 36,
   "id": "48980d72",
   "metadata": {},
   "outputs": [
    {
     "data": {
      "text/plain": [
       "<function __main__.pressed_button(button)>"
      ]
     },
     "metadata": {},
     "output_type": "display_data"
    },
    {
     "data": {
      "application/vnd.jupyter.widget-view+json": {
       "model_id": "c737a66a27c94e92975c5b75dc01b67a",
       "version_major": 2,
       "version_minor": 0
      },
      "text/plain": [
       "HBox(children=(Button(description='7', layout=Layout(height='30px', width='40px'), style=ButtonStyle()), Butto…"
      ]
     },
     "metadata": {},
     "output_type": "display_data"
    },
    {
     "data": {
      "application/vnd.jupyter.widget-view+json": {
       "model_id": "2a379a62d1434dd285f1338a96bf35fb",
       "version_major": 2,
       "version_minor": 0
      },
      "text/plain": [
       "HBox(children=(Button(description='4', layout=Layout(height='30px', width='40px'), style=ButtonStyle()), Butto…"
      ]
     },
     "metadata": {},
     "output_type": "display_data"
    },
    {
     "data": {
      "application/vnd.jupyter.widget-view+json": {
       "model_id": "3528179637b94745aa668ea27d7b08f1",
       "version_major": 2,
       "version_minor": 0
      },
      "text/plain": [
       "HBox(children=(Button(description='1', layout=Layout(height='30px', width='40px'), style=ButtonStyle()), Butto…"
      ]
     },
     "metadata": {},
     "output_type": "display_data"
    },
    {
     "data": {
      "application/vnd.jupyter.widget-view+json": {
       "model_id": "6e6caa5f7ef742aaa263ade854a7dbf6",
       "version_major": 2,
       "version_minor": 0
      },
      "text/plain": [
       "HBox(children=(Button(description='C', layout=Layout(height='30px', width='40px'), style=ButtonStyle()), Butto…"
      ]
     },
     "metadata": {},
     "output_type": "display_data"
    },
    {
     "data": {
      "text/plain": [
       "'3'"
      ]
     },
     "metadata": {},
     "output_type": "display_data"
    },
    {
     "data": {
      "text/plain": [
       "'5'"
      ]
     },
     "metadata": {},
     "output_type": "display_data"
    },
    {
     "data": {
      "text/plain": [
       "'4'"
      ]
     },
     "metadata": {},
     "output_type": "display_data"
    },
    {
     "data": {
      "text/plain": [
       "'8'"
      ]
     },
     "metadata": {},
     "output_type": "display_data"
    },
    {
     "data": {
      "text/plain": [
       "''"
      ]
     },
     "metadata": {},
     "output_type": "display_data"
    }
   ],
   "source": [
    "# Funções matemáticas\n",
    "def pressed_button(button):\n",
    "    key = display(button.description)\n",
    "    return key\n",
    "    \n",
    "def clear_display(button):\n",
    "    button.description = \"\"\n",
    "    display(button.description)\n",
    "\n",
    "def sum(a, b):\n",
    "    return a + b\n",
    "\n",
    "def subtract(a, b):\n",
    "    return a - b\n",
    "\n",
    "def multiply(a, b):\n",
    "    return a * b\n",
    "\n",
    "def divide(a, b):\n",
    "    return a / b\n",
    "\n",
    "# Sessão das variáveis\n",
    "#Variáveis dos botões\n",
    "# Row 1\n",
    "bt7 = widgets.Button(description=\"7\", layout=Layout(width='40px', height='30px'))\n",
    "bt8 = widgets.Button(description=\"8\", layout=Layout(width='40px', height='30px'))\n",
    "bt9 = widgets.Button(description=\"9\", layout=Layout(width='40px', height='30px'))\n",
    "bt_sum = widgets.Button(description=\"+\", layout=Layout(width='40px', height='30px'))\n",
    "\n",
    "# Row 2\n",
    "bt4 = widgets.Button(description=\"4\", layout=Layout(width='40px', height='30px'))\n",
    "bt5 = widgets.Button(description=\"5\", layout=Layout(width='40px', height='30px'))\n",
    "bt6 = widgets.Button(description=\"6\", layout=Layout(width='40px', height='30px'))\n",
    "bt_sub = widgets.Button(description=\"-\", layout=Layout(width='40px', height='30px'))\n",
    "\n",
    "# Row 3\n",
    "bt1 = widgets.Button(description=\"1\", layout=Layout(width='40px', height='30px'))\n",
    "bt2 = widgets.Button(description=\"2\", layout=Layout(width='40px', height='30px'))\n",
    "bt3 = widgets.Button(description=\"3\", layout=Layout(width='40px', height='30px'))\n",
    "bt_mul = widgets.Button(description=\"x\", layout=Layout(width='40px', height='30px'))\n",
    "\n",
    "# Row 4\n",
    "bt_c = widgets.Button(description=\"C\", layout=Layout(width='40px', height='30px'))\n",
    "bt0 = widgets.Button(description=\"0\", layout=Layout(width='40px', height='30px'))\n",
    "bt_equ = widgets.Button(description=\"=\", layout=Layout(width='40px', height='30px'))\n",
    "bt_div = widgets.Button(description=\"÷\", layout=Layout(width='40px', height='30px'))\n",
    "\n",
    "# Ações de pressionar os botões\n",
    "bt0.on_click(pressed_button)\n",
    "bt1.on_click(pressed_button)\n",
    "bt2.on_click(pressed_button)\n",
    "bt3.on_click(pressed_button)\n",
    "bt4.on_click(pressed_button)\n",
    "bt5.on_click(pressed_button)\n",
    "bt6.on_click(pressed_button)\n",
    "bt7.on_click(pressed_button)\n",
    "bt8.on_click(pressed_button)\n",
    "bt9.on_click(pressed_button)\n",
    "\n",
    "bt_c.on_click(clear_display)\n",
    "\n",
    "# Organizando os botões em linhas\n",
    "row_1 = widgets.HBox([bt7, bt8, bt9, bt_sum])\n",
    "row_2 = widgets.HBox([bt4, bt5, bt6, bt_sub])\n",
    "row_3 = widgets.HBox([bt1, bt2, bt3, bt_mul])\n",
    "row_4 = widgets.HBox([bt_c, bt0, bt_equ, bt_div])\n",
    "\n",
    "# Display do resultado\n",
    "display(pressed_button)\n",
    "\n",
    "\n",
    "# Exibindo todos os botões\n",
    "display(row_1, row_2, row_3, row_4)"
   ]
  }
 ],
 "metadata": {
  "kernelspec": {
   "display_name": "Python 3",
   "language": "python",
   "name": "python3"
  },
  "language_info": {
   "codemirror_mode": {
    "name": "ipython",
    "version": 3
   },
   "file_extension": ".py",
   "mimetype": "text/x-python",
   "name": "python",
   "nbconvert_exporter": "python",
   "pygments_lexer": "ipython3",
   "version": "3.13.3"
  }
 },
 "nbformat": 4,
 "nbformat_minor": 5
}

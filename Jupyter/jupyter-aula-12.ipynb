{
 "cells": [
  {
   "cell_type": "markdown",
   "id": "730b5e6e",
   "metadata": {},
   "source": [
    "**Aula 12 - Entendendo os Widgets**\n",
    "\n",
    "[Widgets Documentation - English](https://ipywidgets.readthedocs.io/en/stable/examples/Widget%20List.html)"
   ]
  },
  {
   "cell_type": "code",
   "execution_count": 14,
   "id": "302b8e61",
   "metadata": {},
   "outputs": [],
   "source": [
    "from ipywidgets import widgets"
   ]
  },
  {
   "cell_type": "markdown",
   "id": "05f9f8c8",
   "metadata": {},
   "source": [
    "* Slider (Barra deslizante)"
   ]
  },
  {
   "cell_type": "code",
   "execution_count": 22,
   "id": "244b8cbf",
   "metadata": {},
   "outputs": [
    {
     "data": {
      "application/vnd.jupyter.widget-view+json": {
       "model_id": "fce8cd1011eb43d18ce4ae018343e582",
       "version_major": 2,
       "version_minor": 0
      },
      "text/plain": [
       "IntSlider(value=25, description='Tone', max=50, min=1)"
      ]
     },
     "metadata": {},
     "output_type": "display_data"
    },
    {
     "data": {
      "application/vnd.jupyter.widget-view+json": {
       "model_id": "784871914777489dbaed49dbf14d6406",
       "version_major": 2,
       "version_minor": 0
      },
      "text/plain": [
       "IntSlider(value=50, description='Volume', step=5)"
      ]
     },
     "metadata": {},
     "output_type": "display_data"
    }
   ],
   "source": [
    "note_int = widgets.IntSlider(\n",
    "    description = \"Tone\",\n",
    "    value = 25,\n",
    "    min = 1,\n",
    "    max = 50\n",
    ")\n",
    "note_float = widgets.IntSlider(\n",
    "    description = \"Volume\",\n",
    "    value = 50,\n",
    "    min = 0,\n",
    "    max = 100,\n",
    "    step = 5\n",
    ")\n",
    "display(note_int, note_float)"
   ]
  },
  {
   "cell_type": "code",
   "execution_count": 20,
   "id": "d1d73ef5",
   "metadata": {},
   "outputs": [
    {
     "name": "stdout",
     "output_type": "stream",
     "text": [
      "O valor do volume é: 25\n"
     ]
    }
   ],
   "source": [
    "print(f'O valor do volume é: {note_int.value}')"
   ]
  },
  {
   "cell_type": "markdown",
   "id": "985b039a",
   "metadata": {},
   "source": [
    "* Formulários"
   ]
  },
  {
   "cell_type": "code",
   "execution_count": 29,
   "id": "ed37a27c",
   "metadata": {},
   "outputs": [
    {
     "data": {
      "application/vnd.jupyter.widget-view+json": {
       "model_id": "077f2af983ac486b8c808d87fadfbe6b",
       "version_major": 2,
       "version_minor": 0
      },
      "text/plain": [
       "Text(value='', description='Nome', placeholder='Informe seu nome')"
      ]
     },
     "metadata": {},
     "output_type": "display_data"
    },
    {
     "data": {
      "application/vnd.jupyter.widget-view+json": {
       "model_id": "628a5d546c0c44aba39900f22b17b1f9",
       "version_major": 2,
       "version_minor": 0
      },
      "text/plain": [
       "Combobox(value='', description='Vendedor', options=('Paulo', 'Pedro', 'João', 'Tiago', 'Bartolomeu'))"
      ]
     },
     "metadata": {},
     "output_type": "display_data"
    },
    {
     "data": {
      "application/vnd.jupyter.widget-view+json": {
       "model_id": "f0cfbc4eb6a141e491344ea521a4043e",
       "version_major": 2,
       "version_minor": 0
      },
      "text/plain": [
       "Password(description='Senha')"
      ]
     },
     "metadata": {},
     "output_type": "display_data"
    },
    {
     "data": {
      "application/vnd.jupyter.widget-view+json": {
       "model_id": "ba815a990e764f6daf4baf478c2aa944",
       "version_major": 2,
       "version_minor": 0
      },
      "text/plain": [
       "Button(description='Enviar Dados', style=ButtonStyle())"
      ]
     },
     "metadata": {},
     "output_type": "display_data"
    },
    {
     "data": {
      "application/vnd.jupyter.widget-view+json": {
       "model_id": "94f5784183c0413989849679c1a072b2",
       "version_major": 2,
       "version_minor": 0
      },
      "text/plain": [
       "Label(value='O nome informado é: ')"
      ]
     },
     "metadata": {},
     "output_type": "display_data"
    }
   ],
   "source": [
    "name = widgets.Text(\n",
    "    description = \"Nome\",\n",
    "    placeholder = \"Informe seu nome\"\n",
    ")\n",
    "\n",
    "seller = widgets.Combobox(\n",
    "    description = \"Vendedor\",\n",
    "    options = [\"Paulo\", \"Pedro\", \"João\", \"Tiago\", \"Bartolomeu\"]\n",
    ")\n",
    "\n",
    "password = widgets.Password(\n",
    "    description = \"Senha\",\n",
    ")\n",
    "\n",
    "label_name = widgets.Label(\"O nome informado é: \")\n",
    "\n",
    "def show_label(submit):\n",
    "    label_name.value = (f\"O nome informado é {name.value}\")\n",
    "\n",
    "submit = widgets.Button(\n",
    "    description = \"Enviar Dados\"\n",
    ")\n",
    "\n",
    "submit.on_click(show_label)\n",
    "\n",
    "display(name,seller, password, submit, label_name)"
   ]
  },
  {
   "cell_type": "code",
   "execution_count": 30,
   "id": "fd40aab9",
   "metadata": {},
   "outputs": [
    {
     "data": {
      "application/vnd.jupyter.widget-view+json": {
       "model_id": "901ebbdac2e94a66bd8f8e253817e4c0",
       "version_major": 2,
       "version_minor": 0
      },
      "text/plain": [
       "Button(description='7', layout=Layout(height='10%', width='5%'), style=ButtonStyle())"
      ]
     },
     "metadata": {},
     "output_type": "display_data"
    },
    {
     "data": {
      "application/vnd.jupyter.widget-view+json": {
       "model_id": "ced0362e5215434ab2d379f507b93d67",
       "version_major": 2,
       "version_minor": 0
      },
      "text/plain": [
       "Button(description='+', layout=Layout(height='10%', width='5%'), style=ButtonStyle())"
      ]
     },
     "metadata": {},
     "output_type": "display_data"
    }
   ],
   "source": [
    "from ipywidgets import Button, Layout\n",
    "\n",
    "a = Button(description='7',\n",
    "           layout=Layout(width='5%', height='10%'))\n",
    "\n",
    "b = Button(description='+',\n",
    "           layout=Layout(width='5%', height='10%'))\n",
    "\n",
    "display(a, b)"
   ]
  }
 ],
 "metadata": {
  "kernelspec": {
   "display_name": "Python 3",
   "language": "python",
   "name": "python3"
  },
  "language_info": {
   "codemirror_mode": {
    "name": "ipython",
    "version": 3
   },
   "file_extension": ".py",
   "mimetype": "text/x-python",
   "name": "python",
   "nbconvert_exporter": "python",
   "pygments_lexer": "ipython3",
   "version": "3.13.3"
  }
 },
 "nbformat": 4,
 "nbformat_minor": 5
}

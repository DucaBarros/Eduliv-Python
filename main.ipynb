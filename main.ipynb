{
 "cells": [
  {
   "cell_type": "markdown",
   "id": "97d9054f",
   "metadata": {},
   "source": [
    "## Estrutura de dados\n",
    "\n",
    "**O Python possui 4 estruturas de dados**\n",
    "\n",
    "1. Básicos (str, float, int, boolean)\n",
    "2. Listas (Array) [ ]\n",
    "3. Tuplas (Listas que não se altera) ( )\n",
    "4. Dicionários (Objetos) { }"
   ]
  },
  {
   "cell_type": "markdown",
   "id": "6575e383",
   "metadata": {},
   "source": [
    "## [ LISTAS / ARRAY ] NO PYTHON"
   ]
  },
  {
   "cell_type": "markdown",
   "id": "23a0540e",
   "metadata": {},
   "source": [
    "#### ADICIONANDO VALORES NA LISTA (APPEND)"
   ]
  },
  {
   "cell_type": "code",
   "execution_count": null,
   "id": "3af83aa1",
   "metadata": {},
   "outputs": [
    {
     "name": "stdout",
     "output_type": "stream",
     "text": [
      "Lista de Vendedores: ['Martin']\n"
     ]
    }
   ],
   "source": [
    "# Aula 14 Criar lista\n",
    "# Aula 15 Adicionar um valor à lista\n",
    "# Usando append\n",
    "\n",
    "vendedores = []\n",
    "\n",
    "novo_vendedor = input('Informe o nome do novo vendedor: ')\n",
    "\n",
    "vendedores.append(novo_vendedor)\n",
    "\n",
    "print(f'Lista de Vendedores: {vendedores}')\n"
   ]
  },
  {
   "cell_type": "markdown",
   "id": "05a506de",
   "metadata": {},
   "source": [
    "#### REMOVENDO VALORES NA LISTA (REMOVE & CLEAR)"
   ]
  },
  {
   "cell_type": "code",
   "execution_count": null,
   "id": "582711b2",
   "metadata": {},
   "outputs": [
    {
     "name": "stdout",
     "output_type": "stream",
     "text": [
      "['Mario', 'Luigi', 'Peach', 'Sonic']\n",
      "['Luigi', 'Peach', 'Sonic']\n",
      "[]\n"
     ]
    }
   ],
   "source": [
    "# Aula 16 Remover um valor de uma lista\n",
    "# Usando remove & clear\n",
    "\n",
    "novos_vendedores = ['Mario', 'Luigi', 'Peach', 'Sonic']\n",
    "print(novos_vendedores)\n",
    "novos_vendedores.remove('Mario')\n",
    "print(novos_vendedores)\n",
    "novos_vendedores.clear()\n",
    "print(novos_vendedores)"
   ]
  },
  {
   "cell_type": "markdown",
   "id": "f7fde8b7",
   "metadata": {},
   "source": [
    "#### DESCOBRINDO O TAMANHO DA LISTA (LEN)"
   ]
  },
  {
   "cell_type": "code",
   "execution_count": null,
   "id": "04a3b580",
   "metadata": {},
   "outputs": [
    {
     "name": "stdout",
     "output_type": "stream",
     "text": [
      "A lista ['8739807395678', '87398567895', '285723457458', '98099345345'] tem uma quantidade total de 4 notas fiscais eletrônicas.\n"
     ]
    }
   ],
   "source": [
    "# Aula 17 Obter o tamanho de uma lista\n",
    "# length\n",
    "\n",
    "nfe = ['8739807395678', '87398567895', '285723457458', '98099345345']\n",
    "quantidade_nfe = len(nfe)\n",
    "print(f'A lista {nfe} tem uma quantidade total de {quantidade_nfe} notas fiscais eletrônicas.')"
   ]
  },
  {
   "cell_type": "markdown",
   "id": "abeed695",
   "metadata": {},
   "source": [
    "#### BUSCANDO VALORES NA LISTA (INDEX)"
   ]
  },
  {
   "cell_type": "code",
   "execution_count": 78,
   "id": "74c90b43",
   "metadata": {},
   "outputs": [
    {
     "name": "stdout",
     "output_type": "stream",
     "text": [
      "['Apple', 'Samsung', 'Motorola', 'Xiaomi', 'LG']\n",
      "LG\n"
     ]
    }
   ],
   "source": [
    "# Aula 18 Buscar valores em listas\n",
    "\n",
    "clientes = ['Apple', 'Samsung', 'Motorola', 'Xiaomi', 'LG']\n",
    "print(clientes)\n",
    "\n",
    "cliente_numero = int(input(f'Digite um valor de 0 à 4: '))\n",
    "busca_cliente = clientes[cliente_numero]\n",
    "print(busca_cliente)\n",
    "\n",
    "\n"
   ]
  },
  {
   "cell_type": "code",
   "execution_count": 79,
   "id": "56117015",
   "metadata": {},
   "outputs": [
    {
     "name": "stdout",
     "output_type": "stream",
     "text": [
      "<class 'int'>\n"
     ]
    }
   ],
   "source": [
    "# Aula 18 Buscar valores em listas\n",
    "# Buscando a posição do item da lista\n",
    "# Trabalhando com index\n",
    "\n",
    "busca_cliente = 'LG'\n",
    "posicao = clientes.index(busca_cliente)\n",
    "print(posicao)"
   ]
  },
  {
   "cell_type": "markdown",
   "id": "9449b48a",
   "metadata": {},
   "source": [
    "##### OBTER DADOS EM LISTAS"
   ]
  },
  {
   "cell_type": "code",
   "execution_count": 30,
   "id": "f7fd591b",
   "metadata": {},
   "outputs": [
    {
     "name": "stdout",
     "output_type": "stream",
     "text": [
      "7\n"
     ]
    }
   ],
   "source": [
    "# Aula 19 Obter dados em listas\n",
    "\n",
    "carros = ['L200', 'Renegade', 'Compass', 'Land Rover', 'Duster' , 'Pajero', 'Hilux']\n",
    "tamanho_da_lista = len(carros)\n",
    "print(tamanho_da_lista)\n"
   ]
  },
  {
   "cell_type": "code",
   "execution_count": null,
   "id": "621a96c0",
   "metadata": {},
   "outputs": [
    {
     "name": "stdout",
     "output_type": "stream",
     "text": [
      "Hilux\n"
     ]
    }
   ],
   "source": [
    "# Maneira Trabalhosa de Obter o Último Valor da Lista\n",
    "index_ultimo_item = tamanho_da_lista - 1\n",
    "ultimo_item = carros[index_ultimo_item]\n",
    "print(ultimo_item)"
   ]
  },
  {
   "cell_type": "code",
   "execution_count": 32,
   "id": "872f571e",
   "metadata": {},
   "outputs": [
    {
     "name": "stdout",
     "output_type": "stream",
     "text": [
      "Hilux\n"
     ]
    }
   ],
   "source": [
    "# Maneira Simples de Obter o Último Valor da Lista\n",
    "ultimo_item_simples = carros[-1]\n",
    "print(ultimo_item_simples)"
   ]
  },
  {
   "cell_type": "code",
   "execution_count": 33,
   "id": "63678ad2",
   "metadata": {},
   "outputs": [
    {
     "name": "stdout",
     "output_type": "stream",
     "text": [
      "Pajero\n"
     ]
    }
   ],
   "source": [
    "penultimo_item_simples = carros[-2]\n",
    "print(penultimo_item_simples)"
   ]
  },
  {
   "cell_type": "markdown",
   "id": "2d665535",
   "metadata": {},
   "source": [
    "#### SUBLISTAS"
   ]
  },
  {
   "cell_type": "code",
   "execution_count": 10,
   "id": "fcb72eec",
   "metadata": {},
   "outputs": [
    {
     "name": "stdout",
     "output_type": "stream",
     "text": [
      "['Duster', 'Pajero', 'Hilux']\n"
     ]
    }
   ],
   "source": [
    "# Aula 20 Como obter uma sub lista\n",
    "# carros = ['L200', 'Renegade', 'Compass', 'Land Rover', 'Duster' , 'Pajero', 'Hilux']\n",
    "# 7 itens na lista\n",
    "\n",
    "tres_ultimos_carros = carros[4:]\n",
    "print(tres_ultimos_carros)"
   ]
  },
  {
   "cell_type": "code",
   "execution_count": 12,
   "id": "b9e605c1",
   "metadata": {},
   "outputs": [
    {
     "name": "stdout",
     "output_type": "stream",
     "text": [
      "['L200', 'Renegade', 'Compass']\n"
     ]
    }
   ],
   "source": [
    "tres_primeiros_carros = carros[:3]\n",
    "print(tres_primeiros_carros)"
   ]
  },
  {
   "cell_type": "markdown",
   "id": "95332381",
   "metadata": {},
   "source": [
    "##### Aula 21 Atividade e resolução de listas\n",
    "\n",
    "**EXERCÍCIO**\n",
    "\n",
    "1. Crie uma lista de vendedores\n",
    "2. Gere um input que permita ao usuário informar o vendedor que ele quer pesquisar\n",
    "3. Retorne para o usuário a posição na lista no formato que o usuário entenda"
   ]
  },
  {
   "cell_type": "code",
   "execution_count": 115,
   "id": "90f69413",
   "metadata": {},
   "outputs": [
    {
     "name": "stdout",
     "output_type": "stream",
     "text": [
      "['Vendedor A', 'Vendedor B', 'Vendedor C', 'Vendedor D', 'Vendedor E']\n",
      "O Vendedor B é o 2º na lista.\n"
     ]
    }
   ],
   "source": [
    "# Resolução Aula 21 Atividade e resolução de listas\n",
    "# Usando a função title()\n",
    "\n",
    "\n",
    "vendedores = ['Vendedor A', 'Vendedor B', 'Vendedor C', 'Vendedor D', 'Vendedor E']\n",
    "print(vendedores)\n",
    "\n",
    "pesquisa_vendedores = input(f'Digite o novo do vendedor que deseja pesquisar: ').title()\n",
    "numero_vendedor = vendedores.index(pesquisa_vendedores) + 1\n",
    "\n",
    "print(f'O {pesquisa_vendedores} é o {numero_vendedor}º na lista.')\n"
   ]
  },
  {
   "cell_type": "markdown",
   "id": "cffe2eda",
   "metadata": {},
   "source": [
    "## ( TUPLAS ) NO PYTHON\n",
    "\n",
    "_Tuplas são listas que não podem ser modificadas_"
   ]
  },
  {
   "cell_type": "code",
   "execution_count": 37,
   "id": "20885b4d",
   "metadata": {},
   "outputs": [
    {
     "ename": "AttributeError",
     "evalue": "'tuple' object has no attribute 'append'",
     "output_type": "error",
     "traceback": [
      "\u001b[31m---------------------------------------------------------------------------\u001b[39m",
      "\u001b[31mAttributeError\u001b[39m                            Traceback (most recent call last)",
      "\u001b[36mCell\u001b[39m\u001b[36m \u001b[39m\u001b[32mIn[37]\u001b[39m\u001b[32m, line 4\u001b[39m\n\u001b[32m      1\u001b[39m \u001b[38;5;66;03m# Aula 22 O que são tuplas?\u001b[39;00m\n\u001b[32m      3\u001b[39m numeros = (\u001b[32m0\u001b[39m, \u001b[32m1\u001b[39m, \u001b[32m2\u001b[39m, \u001b[32m3\u001b[39m, \u001b[32m4\u001b[39m, \u001b[32m5\u001b[39m, \u001b[32m6\u001b[39m, \u001b[32m7\u001b[39m, \u001b[32m8\u001b[39m, \u001b[32m9\u001b[39m)\n\u001b[32m----> \u001b[39m\u001b[32m4\u001b[39m \u001b[43mnumeros\u001b[49m\u001b[43m.\u001b[49m\u001b[43mappend\u001b[49m(\u001b[32m10\u001b[39m)\n\u001b[32m      5\u001b[39m \u001b[38;5;28mprint\u001b[39m(numeros)\n",
      "\u001b[31mAttributeError\u001b[39m: 'tuple' object has no attribute 'append'"
     ]
    }
   ],
   "source": [
    "# Aula 22 O que são tuplas?\n",
    "\n",
    "\n",
    "# append não funciona\n",
    "numeros = (0, 1, 2, 3, 4, 5, 6, 7, 8, 9)\n",
    "numeros.append(10)\n",
    "print(numeros)"
   ]
  },
  {
   "cell_type": "code",
   "execution_count": 40,
   "id": "44a6ec51",
   "metadata": {},
   "outputs": [
    {
     "ename": "AttributeError",
     "evalue": "'tuple' object has no attribute 'remove'",
     "output_type": "error",
     "traceback": [
      "\u001b[31m---------------------------------------------------------------------------\u001b[39m",
      "\u001b[31mAttributeError\u001b[39m                            Traceback (most recent call last)",
      "\u001b[36mCell\u001b[39m\u001b[36m \u001b[39m\u001b[32mIn[40]\u001b[39m\u001b[32m, line 3\u001b[39m\n\u001b[32m      1\u001b[39m \u001b[38;5;66;03m# remove não funciona\u001b[39;00m\n\u001b[32m      2\u001b[39m numeros = (\u001b[32m0\u001b[39m, \u001b[32m1\u001b[39m, \u001b[32m2\u001b[39m, \u001b[32m3\u001b[39m, \u001b[32m4\u001b[39m, \u001b[32m5\u001b[39m, \u001b[32m6\u001b[39m, \u001b[32m7\u001b[39m, \u001b[32m8\u001b[39m, \u001b[32m9\u001b[39m)\n\u001b[32m----> \u001b[39m\u001b[32m3\u001b[39m \u001b[43mnumeros\u001b[49m\u001b[43m.\u001b[49m\u001b[43mremove\u001b[49m(\u001b[32m3\u001b[39m)\n\u001b[32m      4\u001b[39m \u001b[38;5;28mprint\u001b[39m(numeros)\n",
      "\u001b[31mAttributeError\u001b[39m: 'tuple' object has no attribute 'remove'"
     ]
    }
   ],
   "source": [
    "# remove não funciona\n",
    "numeros = (0, 1, 2, 3, 4, 5, 6, 7, 8, 9)\n",
    "numeros.remove(3)\n",
    "print(numeros)"
   ]
  },
  {
   "cell_type": "code",
   "execution_count": 38,
   "id": "5210c89f",
   "metadata": {},
   "outputs": [
    {
     "name": "stdout",
     "output_type": "stream",
     "text": [
      "[0, 1, 2, 3, 4, 5, 6, 7, 8, 9, 10]\n"
     ]
    }
   ],
   "source": [
    "# Aula 23 Qual a diferença entre listas e tuplas\n",
    "\n",
    "numeros = [0, 1, 2, 3, 4, 5, 6, 7, 8, 9]\n",
    "numeros.append(10)\n",
    "print(numeros)"
   ]
  },
  {
   "cell_type": "markdown",
   "id": "567c7faa",
   "metadata": {},
   "source": [
    "## { DICIONÁRIOS / OBJETOS } NO PYTHON"
   ]
  },
  {
   "cell_type": "code",
   "execution_count": 51,
   "id": "8c4a33e2",
   "metadata": {},
   "outputs": [
    {
     "name": "stdout",
     "output_type": "stream",
     "text": [
      "{'Número da NFe:': 998974, 'Data de Emissão': '2025-07-01', 'Valor da NFe (R$)': 1250} {'Número da NFe:': 998974, 'Data de Emissão': '2025-07-01', 'Valor da NFe (R$)': 1250}\n"
     ]
    }
   ],
   "source": [
    "# Aula 24 O que são dicionários\n",
    "\n",
    "nfe1 = {\n",
    "    'Número da NFe:': 998974, \n",
    "    'Data de Emissão': '2025-07-01',\n",
    "    'Valor da NFe (R$)': 1250\n",
    "}\n",
    "\n",
    "nfe2 = {\n",
    "    'Número da NFe:': 998974, \n",
    "    'Data de Emissão': '2025-07-01',\n",
    "    'Valor da NFe (R$)': 1250\n",
    "}\n",
    "\n",
    "print(nfe1, nfe2)"
   ]
  },
  {
   "cell_type": "code",
   "execution_count": 50,
   "id": "026208e9",
   "metadata": {},
   "outputs": [
    {
     "name": "stdout",
     "output_type": "stream",
     "text": [
      "[{'Número da NFe:': 998974, 'Data de Emissão': '2025-07-01', 'Valor da NFe (R$)': 1250}, {'Número da NFe:': 998975, 'Data de Emissão': '2025-08-01', 'Valor da NFe (R$)': 1850}]\n"
     ]
    }
   ],
   "source": [
    "# Dicionários dentro de uma Lista\n",
    "\n",
    "nfe = [\n",
    "{\n",
    "    'Número da NFe:': 998974, \n",
    "    'Data de Emissão': '2025-07-01',\n",
    "    'Valor da NFe (R$)': 1250\n",
    "},\n",
    "{\n",
    "    'Número da NFe:': 998975, \n",
    "    'Data de Emissão': '2025-08-01',\n",
    "    'Valor da NFe (R$)': 1850\n",
    "}\n",
    "]\n",
    "print(nfe)"
   ]
  },
  {
   "cell_type": "code",
   "execution_count": 58,
   "id": "794c4440",
   "metadata": {},
   "outputs": [
    {
     "name": "stdout",
     "output_type": "stream",
     "text": [
      "[{'Número da NFe:': 998974, 'Data de Emissão': '2025-07-01', 'Valor da NFe (R$)': 1250}, {'Número da NFe:': 998975, 'Data de Emissão': '2025-08-01', 'Valor da NFe (R$)': 1850}, {'Número da NFe:': 998976, 'Data de Emissão': '2025-09-01', 'Valor da NFe (R$)': 1370}]\n"
     ]
    }
   ],
   "source": [
    "# Aula 25 Adicionando dicionários à listas\n",
    "\n",
    "# append\n",
    "\n",
    "nfe.append(\n",
    "{\n",
    "    'Número da NFe:': 998976, \n",
    "    'Data de Emissão': '2025-09-01',\n",
    "    'Valor da NFe (R$)': 1370\n",
    "}\n",
    ")\n",
    "\n",
    "print(nfe)"
   ]
  },
  {
   "cell_type": "code",
   "execution_count": 59,
   "id": "4879ecee",
   "metadata": {},
   "outputs": [
    {
     "name": "stdout",
     "output_type": "stream",
     "text": [
      "[{'Número da NFe:': 998974, 'Data de Emissão': '2025-07-01', 'Valor da NFe (R$)': 1250}, {'Número da NFe:': 998975, 'Data de Emissão': '2025-08-01', 'Valor da NFe (R$)': 1850}]\n"
     ]
    }
   ],
   "source": [
    "\n",
    "# remove\n",
    "\n",
    "nfe.remove(\n",
    "{\n",
    "    'Número da NFe:': 998976, \n",
    "    'Data de Emissão': '2025-09-01',\n",
    "    'Valor da NFe (R$)': 1370\n",
    "}\n",
    ")\n",
    "\n",
    "print(nfe)"
   ]
  },
  {
   "cell_type": "markdown",
   "id": "2a99b7ff",
   "metadata": {},
   "source": [
    "##### Aula 26 Atividade e resolução de dicionários\n",
    "\n",
    "**EXERCÍCIO**\n",
    "\n",
    "1. Crie um input que permita ao usuario inserir um novo funcionário em uma lista\n",
    "2. O novo funcionário terá: Nome, Idade, Profissão\n",
    "3. Retorne para o usuário a lista atualizada em tela"
   ]
  },
  {
   "cell_type": "code",
   "execution_count": 91,
   "id": "ba327751",
   "metadata": {},
   "outputs": [
    {
     "name": "stdout",
     "output_type": "stream",
     "text": [
      "{'Nome': 'Maria', 'idade': '55', 'Profissão': 'Costureira'}\n"
     ]
    }
   ],
   "source": [
    "# Resolução do exercício - Aula 26 Atividade e resolução de dicionários\n",
    "\n",
    "nome = input('Digite o nome do funcionário novo: ')\n",
    "idade = input('Digite a idade do funcionário novo: ')\n",
    "profissao = input('Digite a profissão do funcionário novo: ')\n",
    "\n",
    "funcionario = {\n",
    "    'Nome' : nome,\n",
    "    'idade' : idade,\n",
    "    'Profissão' : profissao\n",
    "}\n",
    "\n",
    "print(funcionario)"
   ]
  },
  {
   "cell_type": "markdown",
   "id": "02940ba0",
   "metadata": {},
   "source": [
    "## CONDICIONAIS (IF, ELSE, ELIF, WHILE, FOR) & \n",
    "## OPERADORES (==, !=, <>, <, >, >=, <=, OR, AND, &&, IN, NOT)"
   ]
  },
  {
   "cell_type": "markdown",
   "id": "6b57f085",
   "metadata": {},
   "source": [
    "**Aulas 27 a 29 - Teorias**"
   ]
  },
  {
   "cell_type": "markdown",
   "id": "62c2646b",
   "metadata": {},
   "source": [
    "**Aula 30 Exercício de Fixação**\n",
    "\n",
    "**EXERCÍCIO**\n",
    "\n",
    "1. Crie uma lista de nomes\n",
    "2. Crie um input que permita ao usuário perguntar se o nome existe ou não na lista\n",
    "3. Exiba a mensagem ao usuário se o nome está ou não na lista"
   ]
  },
  {
   "cell_type": "code",
   "execution_count": 145,
   "id": "b9eae3cd",
   "metadata": {},
   "outputs": [
    {
     "name": "stdout",
     "output_type": "stream",
     "text": [
      "['Mateus', 'Marcos', 'Lucas', 'João', 'Paulo', 'Pedro', 'Filipe', 'Bartolomeu', 'Jonas', 'Isaías']\n",
      "-----------------------------------------------------------------------------------------------------\n",
      "O nome Mario não está na lista!\n"
     ]
    }
   ],
   "source": [
    "# Resolução do Exercício - Aula 30 Exercício de Fixação\n",
    "\n",
    "nomes = ['Mateus','Marcos', 'Lucas', 'João', 'Paulo', 'Pedro', 'Filipe', 'Bartolomeu','Jonas', 'Isaías']\n",
    "\n",
    "nome_pesquisado = input('Digite o nome a ser verificado na lista: ').title()\n",
    "print(nomes)\n",
    "print('-----------------------------------------------------------------------------------------------------')\n",
    "\n",
    "if nome_pesquisado in nomes:\n",
    "    print(f'O nome {nome_pesquisado} está na lista!')\n",
    "else:\n",
    "    print(f'O nome {nome_pesquisado} não está na lista!')"
   ]
  },
  {
   "cell_type": "code",
   "execution_count": null,
   "id": "ffc233cd",
   "metadata": {},
   "outputs": [
    {
     "name": "stdout",
     "output_type": "stream",
     "text": [
      "False\n"
     ]
    }
   ],
   "source": [
    "# Verificando com True ou False\n",
    "\n",
    "nome_pesquisado = input('Digite o nome a ser verificado na lista: ').title()\n",
    "print(nome_pesquisado in nomes)"
   ]
  },
  {
   "cell_type": "markdown",
   "id": "94d6930b",
   "metadata": {},
   "source": [
    "## TRATAMENTO DE ERROS\n",
    "#### TRY & EXCEPT"
   ]
  },
  {
   "cell_type": "code",
   "execution_count": 144,
   "id": "bd29a5db",
   "metadata": {},
   "outputs": [
    {
     "name": "stdout",
     "output_type": "stream",
     "text": [
      "['Mateus', 'Marcos', 'Lucas', 'João', 'Paulo', 'Pedro', 'Filipe', 'Bartolomeu', 'Jonas', 'Isaías']\n",
      "-----------------------------------------------------------------------------------------------------\n",
      "O nome Lucas está na lista!\n"
     ]
    }
   ],
   "source": [
    "# Aula 31 Lidando com tratamento de erros exceções\n",
    "\n",
    "nome_pesquisado = input('Digite o nome a ser verificado na lista: ').title()\n",
    "print(nomes)\n",
    "print('-----------------------------------------------------------------------------------------------------')\n",
    "\n",
    "try:\n",
    "    index_nome = nomes.index(nome_pesquisado)\n",
    "    print(f'O nome {nome_pesquisado} está na lista!')\n",
    "except:\n",
    "    print(f'O nome {nome_pesquisado} não está na lista!')"
   ]
  }
 ],
 "metadata": {
  "kernelspec": {
   "display_name": "Python 3",
   "language": "python",
   "name": "python3"
  },
  "language_info": {
   "codemirror_mode": {
    "name": "ipython",
    "version": 3
   },
   "file_extension": ".py",
   "mimetype": "text/x-python",
   "name": "python",
   "nbconvert_exporter": "python",
   "pygments_lexer": "ipython3",
   "version": "3.13.3"
  }
 },
 "nbformat": 4,
 "nbformat_minor": 5
}

{
 "cells": [
  {
   "cell_type": "markdown",
   "id": "97d9054f",
   "metadata": {},
   "source": [
    "## Estrutura de dados\n",
    "\n",
    "**O Python possui 4 estruturas de dados**\n",
    "\n",
    "1. Básicos (str, float, int, boolean)\n",
    "2. Listas (Array) [ ]\n",
    "3. Tuplas (Listas que não se altera) ( )\n",
    "4. Dicionários (Objetos) { }"
   ]
  },
  {
   "cell_type": "markdown",
   "id": "6575e383",
   "metadata": {},
   "source": [
    "## LISTAS NO PYTHON"
   ]
  },
  {
   "cell_type": "markdown",
   "id": "23a0540e",
   "metadata": {},
   "source": [
    "#### ADICIONANDO VALORES NA LISTA (APPEND)"
   ]
  },
  {
   "cell_type": "code",
   "execution_count": null,
   "id": "3af83aa1",
   "metadata": {},
   "outputs": [
    {
     "name": "stdout",
     "output_type": "stream",
     "text": [
      "Lista de Vendedores: ['Martin']\n"
     ]
    }
   ],
   "source": [
    "# Aula 14 Criar lista\n",
    "# Aula 15 Adicionar um valor à lista\n",
    "# Usando append\n",
    "\n",
    "vendedores = []\n",
    "\n",
    "novo_vendedor = input('Informe o nome do novo vendedor: ')\n",
    "\n",
    "vendedores.append(novo_vendedor)\n",
    "\n",
    "print(f'Lista de Vendedores: {vendedores}')\n"
   ]
  },
  {
   "cell_type": "markdown",
   "id": "05a506de",
   "metadata": {},
   "source": [
    "#### REMOVENDO VALORES NA LISTA (REMOVE & CLEAR)"
   ]
  },
  {
   "cell_type": "code",
   "execution_count": null,
   "id": "582711b2",
   "metadata": {},
   "outputs": [
    {
     "name": "stdout",
     "output_type": "stream",
     "text": [
      "['Mario', 'Luigi', 'Peach', 'Sonic']\n",
      "['Luigi', 'Peach', 'Sonic']\n",
      "[]\n"
     ]
    }
   ],
   "source": [
    "# Aula 16 Remover um valor de uma lista\n",
    "# Usando remove & clear\n",
    "\n",
    "novos_vendedores = ['Mario', 'Luigi', 'Peach', 'Sonic']\n",
    "print(novos_vendedores)\n",
    "novos_vendedores.remove('Mario')\n",
    "print(novos_vendedores)\n",
    "novos_vendedores.clear()\n",
    "print(novos_vendedores)"
   ]
  },
  {
   "cell_type": "markdown",
   "id": "f7fde8b7",
   "metadata": {},
   "source": [
    "#### DESCOBRINDO O TAMANHO DA LISTA (LEN)"
   ]
  },
  {
   "cell_type": "code",
   "execution_count": null,
   "id": "04a3b580",
   "metadata": {},
   "outputs": [
    {
     "name": "stdout",
     "output_type": "stream",
     "text": [
      "A lista ['8739807395678', '87398567895', '285723457458', '98099345345'] tem uma quantidade total de 4 notas fiscais eletrônicas.\n"
     ]
    }
   ],
   "source": [
    "# Aula 17 Obter o tamanho de uma lista\n",
    "# length\n",
    "\n",
    "nfe = ['8739807395678', '87398567895', '285723457458', '98099345345']\n",
    "quantidade_nfe = len(nfe)\n",
    "print(f'A lista {nfe} tem uma quantidade total de {quantidade_nfe} notas fiscais eletrônicas.')"
   ]
  },
  {
   "cell_type": "markdown",
   "id": "abeed695",
   "metadata": {},
   "source": [
    "#### BUSCANDO VALORES NA LISTA (INDEX)"
   ]
  },
  {
   "cell_type": "code",
   "execution_count": 24,
   "id": "74c90b43",
   "metadata": {},
   "outputs": [
    {
     "name": "stdout",
     "output_type": "stream",
     "text": [
      "['Apple', 'Samsung', 'Motorola', 'Xiaomi', 'LG']\n",
      "Xiaomi\n"
     ]
    }
   ],
   "source": [
    "# Aula 18 Buscar valores em listas\n",
    "\n",
    "clientes = ['Apple', 'Samsung', 'Motorola', 'Xiaomi', 'LG']\n",
    "print(clientes)\n",
    "\n",
    "cliente_numero = int(input(f'Digite od valores de 0 à 5: '))\n",
    "busca_cliente = clientes[cliente_numero]\n",
    "print(busca_cliente)\n",
    "\n",
    "\n"
   ]
  },
  {
   "cell_type": "code",
   "execution_count": null,
   "id": "56117015",
   "metadata": {},
   "outputs": [
    {
     "name": "stdout",
     "output_type": "stream",
     "text": [
      "4\n"
     ]
    }
   ],
   "source": [
    "# Aula 18 Buscar valores em listas\n",
    "# Buscando a posição do item da lista\n",
    "# Trabalhando com index\n",
    "\n",
    "busca_cliente = 'LG'\n",
    "posicao = clientes.index(busca_cliente)\n",
    "print(posicao)"
   ]
  },
  {
   "cell_type": "markdown",
   "id": "9449b48a",
   "metadata": {},
   "source": [
    "##### OBTER DADOS EM LISTAS"
   ]
  },
  {
   "cell_type": "code",
   "execution_count": 30,
   "id": "f7fd591b",
   "metadata": {},
   "outputs": [
    {
     "name": "stdout",
     "output_type": "stream",
     "text": [
      "7\n"
     ]
    }
   ],
   "source": [
    "# Aula 19 Obter dados em listas\n",
    "\n",
    "carros = ['L200', 'Renegade', 'Compass', 'Land Rover', 'Duster' , 'Pajero', 'Hilux']\n",
    "tamanho_da_lista = len(carros)\n",
    "print(tamanho_da_lista)\n"
   ]
  },
  {
   "cell_type": "code",
   "execution_count": null,
   "id": "621a96c0",
   "metadata": {},
   "outputs": [
    {
     "name": "stdout",
     "output_type": "stream",
     "text": [
      "Hilux\n"
     ]
    }
   ],
   "source": [
    "# Maneira Trabalhosa de Obter o Último Valor da Lista\n",
    "index_ultimo_item = tamanho_da_lista - 1\n",
    "ultimo_item = carros[index_ultimo_item]\n",
    "print(ultimo_item)"
   ]
  },
  {
   "cell_type": "code",
   "execution_count": 32,
   "id": "872f571e",
   "metadata": {},
   "outputs": [
    {
     "name": "stdout",
     "output_type": "stream",
     "text": [
      "Hilux\n"
     ]
    }
   ],
   "source": [
    "# Maneira Simples de Obter o Último Valor da Lista\n",
    "ultimo_item_simples = carros[-1]\n",
    "print(ultimo_item_simples)"
   ]
  },
  {
   "cell_type": "code",
   "execution_count": 33,
   "id": "63678ad2",
   "metadata": {},
   "outputs": [
    {
     "name": "stdout",
     "output_type": "stream",
     "text": [
      "Pajero\n"
     ]
    }
   ],
   "source": [
    "penultimo_item_simples = carros[-2]\n",
    "print(penultimo_item_simples)"
   ]
  },
  {
   "cell_type": "markdown",
   "id": "2d665535",
   "metadata": {},
   "source": [
    "#### SUBLISTAS"
   ]
  },
  {
   "cell_type": "code",
   "execution_count": null,
   "id": "fcb72eec",
   "metadata": {},
   "outputs": [
    {
     "name": "stdout",
     "output_type": "stream",
     "text": [
      "['Duster', 'Pajero', 'Hilux']\n"
     ]
    }
   ],
   "source": [
    "# Aula 20 Como obter uma sub lista\n",
    "# carros = ['L200', 'Renegade', 'Compass', 'Land Rover', 'Duster' , 'Pajero', 'Hilux']\n",
    "# 7 itens na lista\n",
    "\n",
    "tres_ultimos_carros = carros[4:]\n",
    "print(tres_ultimos_carros)"
   ]
  },
  {
   "cell_type": "code",
   "execution_count": 12,
   "id": "b9e605c1",
   "metadata": {},
   "outputs": [
    {
     "name": "stdout",
     "output_type": "stream",
     "text": [
      "['L200', 'Renegade', 'Compass']\n"
     ]
    }
   ],
   "source": [
    "tres_primeiros_carros = carros[:3]\n",
    "print(tres_primeiros_carros)"
   ]
  },
  {
   "cell_type": "markdown",
   "id": "95332381",
   "metadata": {},
   "source": [
    "##### Aula 21 Atividade e resolução de listas\n",
    "\n",
    "**EXERCÍCIO**\n",
    "\n",
    "1. Crie uma lista de vendedores\n",
    "2. Gere um input que permita ao usuário informar o vendedor que ele quer pesquisar\n",
    "3. Retorne para o usuário a posição na lista"
   ]
  },
  {
   "cell_type": "code",
   "execution_count": null,
   "id": "90f69413",
   "metadata": {},
   "outputs": [
    {
     "name": "stdout",
     "output_type": "stream",
     "text": [
      "['Vendedor A', 'Vendedor B', 'Vendedor C', 'Vendedor D', 'Vendedor E']\n"
     ]
    },
    {
     "data": {
      "text/plain": [
       "3"
      ]
     },
     "execution_count": 23,
     "metadata": {},
     "output_type": "execute_result"
    }
   ],
   "source": [
    "# Aula 21 Atividade e resolução de listas\n",
    "# usando a função title()\n",
    "\n",
    "\n",
    "vendedores = ['Vendedor A', 'Vendedor B', 'Vendedor C', 'Vendedor D', 'Vendedor E']\n",
    "print(vendedores)\n",
    "\n",
    "pesquisa_vendedores = input(f'Digite o novo do vendedor que deseja pesquisar: ').title()\n",
    "resultado = pesquisa_vendedores\n",
    "vendedores.index(resultado)\n"
   ]
  }
 ],
 "metadata": {
  "kernelspec": {
   "display_name": "Python 3",
   "language": "python",
   "name": "python3"
  },
  "language_info": {
   "codemirror_mode": {
    "name": "ipython",
    "version": 3
   },
   "file_extension": ".py",
   "mimetype": "text/x-python",
   "name": "python",
   "nbconvert_exporter": "python",
   "pygments_lexer": "ipython3",
   "version": "3.13.3"
  }
 },
 "nbformat": 4,
 "nbformat_minor": 5
}
